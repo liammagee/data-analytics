{
 "cells": [
  {
   "cell_type": "markdown",
   "metadata": {},
   "source": [
    "## Data Preparation"
   ]
  },
  {
   "cell_type": "markdown",
   "metadata": {},
   "source": [
    "Loads common imports, and defines some generic SPSS functions."
   ]
  },
  {
   "cell_type": "code",
   "execution_count": 4,
   "metadata": {},
   "outputs": [],
   "source": [
    "import matplotlib.pyplot as plt\n",
    "import numpy as np\n",
    "import pandas as pd\n",
    "import savReaderWriter\n",
    "import seaborn as sns\n",
    "\n",
    "from osgeo import gdal"
   ]
  },
  {
   "cell_type": "code",
   "execution_count": 5,
   "metadata": {},
   "outputs": [],
   "source": [
    "import common as c\n",
    "ds = c.DataSet(\"data/acf.sav\")\n"
   ]
  },
  {
   "cell_type": "markdown",
   "metadata": {},
   "source": [
    "General instructions."
   ]
  },
  {
   "cell_type": "code",
   "execution_count": 6,
   "metadata": {},
   "outputs": [
    {
     "name": "stdout",
     "output_type": "stream",
     "text": [
      "The autoreload extension is already loaded. To reload it, use:\n",
      "  %reload_ext autoreload\n"
     ]
    }
   ],
   "source": [
    "%load_ext autoreload\n",
    "%autoreload 2\n",
    "%matplotlib inline\n",
    "# Parameters\n",
    "plt.rcParams[\"figure.figsize\"] = (12,9)"
   ]
  },
  {
   "cell_type": "code",
   "execution_count": 7,
   "metadata": {},
   "outputs": [],
   "source": [
    "import sys\n",
    "sys.path.append('/home/ubuntu/repos/fastai')"
   ]
  },
  {
   "cell_type": "code",
   "execution_count": 8,
   "metadata": {},
   "outputs": [],
   "source": [
    "import fastai\n",
    "from fastai.structured import *\n",
    "from fastai.column_data import *\n",
    "np.set_printoptions(threshold=50, edgeitems=20)\n",
    "\n",
    "PATH='/home/ubuntu/jupyter/data/path/'"
   ]
  },
  {
   "cell_type": "markdown",
   "metadata": {},
   "source": [
    "Generate list of variables"
   ]
  },
  {
   "cell_type": "code",
   "execution_count": 11,
   "metadata": {},
   "outputs": [
    {
     "ename": "ModuleNotFoundError",
     "evalue": "No module named 'tabulate'",
     "output_type": "error",
     "traceback": [
      "\u001b[0;31m---------------------------------------------------------------------------\u001b[0m",
      "\u001b[0;31mModuleNotFoundError\u001b[0m                       Traceback (most recent call last)",
      "\u001b[0;32m<ipython-input-11-3b3ff2cfde85>\u001b[0m in \u001b[0;36m<module>\u001b[0;34m()\u001b[0m\n\u001b[0;32m----> 1\u001b[0;31m \u001b[0;32mimport\u001b[0m \u001b[0mtabulate\u001b[0m\u001b[0;34m\u001b[0m\u001b[0m\n\u001b[0m\u001b[1;32m      2\u001b[0m \u001b[0;32mfrom\u001b[0m \u001b[0mIPython\u001b[0m\u001b[0;34m.\u001b[0m\u001b[0mdisplay\u001b[0m \u001b[0;32mimport\u001b[0m \u001b[0mHTML\u001b[0m\u001b[0;34m,\u001b[0m \u001b[0mdisplay\u001b[0m\u001b[0;34m\u001b[0m\u001b[0m\n\u001b[1;32m      3\u001b[0m \u001b[0ms\u001b[0m \u001b[0;34m=\u001b[0m \u001b[0mtabulate\u001b[0m\u001b[0;34m.\u001b[0m\u001b[0mtabulate\u001b[0m\u001b[0;34m(\u001b[0m\u001b[0;34m(\u001b[0m\u001b[0;34m[\u001b[0m\u001b[0mx\u001b[0m\u001b[0;34m.\u001b[0m\u001b[0mdecode\u001b[0m\u001b[0;34m(\u001b[0m\u001b[0;34m'utf-8'\u001b[0m\u001b[0;34m)\u001b[0m\u001b[0;34m,\u001b[0m \u001b[0my\u001b[0m\u001b[0;34m.\u001b[0m\u001b[0mdecode\u001b[0m\u001b[0;34m(\u001b[0m\u001b[0;34m'utf-8'\u001b[0m\u001b[0;34m)\u001b[0m\u001b[0;34m]\u001b[0m \u001b[0;32mfor\u001b[0m \u001b[0mx\u001b[0m\u001b[0;34m,\u001b[0m \u001b[0my\u001b[0m \u001b[0;32min\u001b[0m \u001b[0mcommon\u001b[0m\u001b[0;34m.\u001b[0m\u001b[0mmetadata\u001b[0m\u001b[0;34m.\u001b[0m\u001b[0mvarLabels\u001b[0m\u001b[0;34m.\u001b[0m\u001b[0mitems\u001b[0m\u001b[0;34m(\u001b[0m\u001b[0;34m)\u001b[0m\u001b[0;34m)\u001b[0m\u001b[0;34m,\u001b[0m \u001b[0mtablefmt\u001b[0m\u001b[0;34m=\u001b[0m\u001b[0;34m'html'\u001b[0m\u001b[0;34m)\u001b[0m\u001b[0;34m\u001b[0m\u001b[0m\n\u001b[1;32m      4\u001b[0m \u001b[0;32mwith\u001b[0m \u001b[0mopen\u001b[0m\u001b[0;34m(\u001b[0m\u001b[0;34m\"acf-metadata.html\"\u001b[0m\u001b[0;34m,\u001b[0m \u001b[0;34m\"w\"\u001b[0m\u001b[0;34m)\u001b[0m \u001b[0;32mas\u001b[0m \u001b[0mtext_file\u001b[0m\u001b[0;34m:\u001b[0m\u001b[0;34m\u001b[0m\u001b[0m\n\u001b[1;32m      5\u001b[0m     \u001b[0mtext_file\u001b[0m\u001b[0;34m.\u001b[0m\u001b[0mwrite\u001b[0m\u001b[0;34m(\u001b[0m\u001b[0ms\u001b[0m\u001b[0;34m)\u001b[0m\u001b[0;34m\u001b[0m\u001b[0m\n",
      "\u001b[0;31mModuleNotFoundError\u001b[0m: No module named 'tabulate'"
     ]
    }
   ],
   "source": [
    "import tabulate\n",
    "from IPython.display import HTML, display\n",
    "s = tabulate.tabulate(([x.decode('utf-8'), y.decode('utf-8')] for x, y in common.metadata.varLabels.items()), tablefmt='html')\n",
    "with open(\"acf-metadata.html\", \"w\") as text_file:\n",
    "    text_file.write(s)\n",
    "#display(HTML(s))"
   ]
  },
  {
   "cell_type": "code",
   "execution_count": 12,
   "metadata": {},
   "outputs": [],
   "source": [
    "acf = ds.data"
   ]
  },
  {
   "cell_type": "markdown",
   "metadata": {},
   "source": [
    "#### Scores"
   ]
  },
  {
   "cell_type": "markdown",
   "metadata": {},
   "source": [
    "Music participation scores"
   ]
  },
  {
   "cell_type": "code",
   "execution_count": 13,
   "metadata": {},
   "outputs": [
    {
     "data": {
      "image/png": "[encoded data removed]",
      "text/plain": [
       "<Figure size 864x648 with 1 Axes>"
      ]
     },
     "metadata": {},
     "output_type": "display_data"
    }
   ],
   "source": [
    "acf = acf.assign(score_music_hours = acf['Q24'])\n",
    "acf = acf.assign(score_music_frequency = acf[['Q26A', 'Q26B', 'Q26C', 'Q26D', 'Q26E', 'Q26F']].sum(axis=1))\n",
    "acf = acf.assign(score_music_consumption = (acf.score_music_hours / 4. ) + ( acf.score_music_frequency  / 6.) )\n",
    "acf.score_music_consumption.hist();"
   ]
  },
  {
   "cell_type": "code",
   "execution_count": 25,
   "metadata": {},
   "outputs": [
    {
     "data": {
      "text/plain": [
       "5.250000    146\n",
       "5.083333    109\n",
       "5.500000    100\n",
       "4.750000     82\n",
       "4.833333     74\n",
       "4.916667     72\n",
       "5.166667     71\n",
       "5.000000     68\n",
       "5.333333     58\n",
       "4.583333     54\n",
       "4.666667     46\n",
       "4.500000     42\n",
       "6.000000     32\n",
       "4.416667     32\n",
       "4.333333     27\n",
       "5.666667     25\n",
       "5.750000     18\n",
       "5.416667     17\n",
       "5.583333     16\n",
       "4.250000     16\n",
       "4.166667     12\n",
       "5.833333     11\n",
       "4.083333     11\n",
       "4.583333     10\n",
       "3.916667      8\n",
       "3.833333      7\n",
       "4.666667      6\n",
       "4.000000      5\n",
       "3.500000      4\n",
       "4.416667      4\n",
       "3.666667      4\n",
       "3.583333      3\n",
       "4.833333      3\n",
       "3.750000      2\n",
       "3.250000      2\n",
       "3.416667      1\n",
       "2.833333      1\n",
       "2.416667      1\n",
       "Name: score_music_consumption, dtype: int64"
      ]
     },
     "execution_count": 25,
     "metadata": {},
     "output_type": "execute_result"
    }
   ],
   "source": [
    "acf.score_music_consumption.value_counts()"
   ]
  },
  {
   "cell_type": "markdown",
   "metadata": {},
   "source": [
    "Heritage participation scores"
   ]
  },
  {
   "cell_type": "code",
   "execution_count": null,
   "metadata": {},
   "outputs": [],
   "source": [
    "# Reverse order of art gallery visits\n",
    "acf = acf.assign(score_heritage_internet = np.max(acf['Q37']) - acf['Q37'])\n",
    "acf = acf.assign(score_heritage_visits = acf[['Q31C1', 'Q31C2', 'Q31C3', 'Q31C4', 'Q31C5', 'Q31C6', 'Q31C7', 'Q31C8', 'Q31C9', 'Q31C10', 'Q31C11']].sum(axis=1))\n",
    "acf.loc[acf.score_heritage_visits < 0, 'score_heritage_visits'] = 0\n",
    "acf = acf.assign(score_heritage_subscriber = acf[['Q32C1', 'Q32C2', 'Q32C3', 'Q32C4', 'Q32C5', 'Q32C6', 'Q32C7', 'Q32C8']].sum(axis=1))\n",
    "acf = acf.assign(score_heritage_consumption = (acf.score_heritage_internet / 5. ) + ( acf.score_heritage_visits  / 11. )  + ( acf.score_heritage_subscriber / 8. ) )\n",
    "acf.score_heritage_visits.hist();"
   ]
  },
  {
   "cell_type": "markdown",
   "metadata": {},
   "source": [
    "Art participation scores"
   ]
  },
  {
   "cell_type": "code",
   "execution_count": null,
   "metadata": {},
   "outputs": [],
   "source": [
    "# Reverse order of art gallery visits\n",
    "acf = acf.assign(score_gallery = np.max(acf['Q38']) - acf['Q38'])\n",
    "acf = acf.assign(score_locations = acf[['Q39C1', 'Q39C2', 'Q39C3', 'Q39C4', 'Q39C5', 'Q39C6', 'Q39C7', 'Q39C8']].sum(axis=1))\n",
    "acf = acf.assign(score_internet = acf[['Q40C1', 'Q40C2', 'Q40C3', 'Q40C4']].sum(axis=1))\n",
    "acf = acf.assign(score_art_consumption = ( (acf.score_gallery ) + ( acf.score_locations )  + ( acf.score_internet ) ) / 3. )\n",
    "\n",
    "#plt.figure(); \n",
    "[(acf[a].plot.hist(alpha = 0.25, legend = True)) for a in ['score_gallery', 'score_locations', 'score_internet', 'score_art_consumption']];"
   ]
  },
  {
   "cell_type": "code",
   "execution_count": null,
   "metadata": {},
   "outputs": [],
   "source": [
    "nrows, ncols = 2, 2\n",
    "fig, axes = plt.subplots(nrows=nrows, ncols=ncols, figsize=(10, 10))\n",
    "counter = 0\n",
    "cols = ['score_gallery', 'score_locations', 'score_internet', 'score_art_consumption']\n",
    "for i in range(nrows):\n",
    "    for j in range(ncols):\n",
    "        ax = axes[i][j]\n",
    "        if counter < len(cols):\n",
    "            col = cols[counter]\n",
    "            ax.hist(acf[col].dropna(), bins=5, color='blue', alpha=0.5, label='{}'.format(acf[col]))\n",
    "        else:\n",
    "            ax.set_axis_off()\n",
    "        counter += 1\n",
    "plt.show()\n",
    "        \n",
    "\n"
   ]
  },
  {
   "cell_type": "markdown",
   "metadata": {},
   "source": [
    "Literature participation scores"
   ]
  },
  {
   "cell_type": "code",
   "execution_count": null,
   "metadata": {},
   "outputs": [],
   "source": [
    "acf = acf.assign(score_lit_aus_books = acf['Q49'])\n",
    "acf = acf.assign(score_lit_books = acf['Q50'])\n",
    "acf = acf.assign(score_lit_ebooks = acf['Q51'])\n",
    "acf = acf.assign(score_lit_attendance = acf[['Q53A', 'Q53B', 'Q53C', 'Q53D', 'Q53E', 'Q53F', 'Q53G']].sum(axis=1))\n",
    "acf = acf.assign(score_literature_consumption = (acf.score_lit_aus_books / 8. ) + ( acf.score_lit_books  / 5. )  + ( acf.score_lit_ebooks  / 7. ) + ( acf.score_lit_attendance  / 7. ) )\n",
    "\n",
    "acf.score_literature_consumption.hist();"
   ]
  },
  {
   "cell_type": "markdown",
   "metadata": {},
   "source": [
    "#### Frequencies"
   ]
  },
  {
   "cell_type": "code",
   "execution_count": null,
   "metadata": {},
   "outputs": [],
   "source": [
    "common.freq_table('sex')"
   ]
  },
  {
   "cell_type": "code",
   "execution_count": null,
   "metadata": {},
   "outputs": [],
   "source": [
    "common.freq_table('soc8cla')"
   ]
  },
  {
   "cell_type": "code",
   "execution_count": null,
   "metadata": {},
   "outputs": [],
   "source": [
    "common.freq_table('spaloc')"
   ]
  },
  {
   "cell_type": "code",
   "execution_count": null,
   "metadata": {},
   "outputs": [],
   "source": [
    "common.freq_table('Q38')"
   ]
  },
  {
   "cell_type": "code",
   "execution_count": null,
   "metadata": {},
   "outputs": [],
   "source": [
    "common.freq_table('Q24')"
   ]
  },
  {
   "cell_type": "code",
   "execution_count": null,
   "metadata": {},
   "outputs": [],
   "source": [
    "common.freq_table('Q25')"
   ]
  },
  {
   "cell_type": "code",
   "execution_count": null,
   "metadata": {},
   "outputs": [],
   "source": [
    "common.freq_table('Q37')"
   ]
  },
  {
   "cell_type": "code",
   "execution_count": null,
   "metadata": {},
   "outputs": [],
   "source": [
    "common.freq_table('Q49')"
   ]
  },
  {
   "cell_type": "code",
   "execution_count": null,
   "metadata": {},
   "outputs": [],
   "source": [
    "common.freq_table('Q50')"
   ]
  },
  {
   "cell_type": "code",
   "execution_count": null,
   "metadata": {},
   "outputs": [],
   "source": [
    "common.freq_table('Q51')"
   ]
  },
  {
   "cell_type": "code",
   "execution_count": null,
   "metadata": {},
   "outputs": [],
   "source": [
    "common.freq_table('Q56')"
   ]
  },
  {
   "cell_type": "markdown",
   "metadata": {},
   "source": [
    "### Postcodes"
   ]
  },
  {
   "cell_type": "code",
   "execution_count": null,
   "metadata": {},
   "outputs": [],
   "source": [
    "postcodes = pd.read_csv(\"data/POA_2016_AUST.csv\")"
   ]
  },
  {
   "cell_type": "markdown",
   "metadata": {},
   "source": [
    "### ABS LGAs"
   ]
  },
  {
   "cell_type": "code",
   "execution_count": null,
   "metadata": {},
   "outputs": [],
   "source": [
    "names = [\"POSTCODE\",\n",
    "            \"CODE_2011\",\n",
    "            \"NAME_2011\",\n",
    "            \"RATIO\",\n",
    "            \"PERCENTAGE\"]\n",
    "\n",
    "def readStatisticalAreas(file):\n",
    "    sas = pd.read_csv(file, encoding = \"ISO-8859-1\")\n",
    "    sas = sas.iloc[5:3115, 0:5]\n",
    "    sas.columns = names\n",
    "    sas = sas.iloc[3:3107,1:4]\n",
    "    return sas\n",
    "\n",
    "lgas = readStatisticalAreas(\"data/1270055006_CG_POSTCODE_2011_LGA_2011.csv\")"
   ]
  },
  {
   "cell_type": "code",
   "execution_count": null,
   "metadata": {},
   "outputs": [],
   "source": [
    "lgas.iloc[1,:]"
   ]
  },
  {
   "cell_type": "markdown",
   "metadata": {},
   "source": [
    "### SEIFA \n"
   ]
  },
  {
   "cell_type": "code",
   "execution_count": null,
   "metadata": {},
   "outputs": [],
   "source": [
    "seifa_raw = pd.read_excel('./data/2033.0.55.001 POA Indexes.xls', sheet_name = 1)\n",
    "seifa = seifa_raw.iloc[5:2487, 0:10]\n",
    "seifa.columns = [ \"postcode\", \"score_adv_disadv\", \"decile_adv_disadv\", \"score_disadv\", \"decile_disadv\", \"score_eco_resource\", \"decile_eco_resource\", \"score_edu_occ\", \"decile_edu_occ\", \"res_pop\"]\n",
    "\n"
   ]
  },
  {
   "cell_type": "code",
   "execution_count": null,
   "metadata": {},
   "outputs": [],
   "source": [
    "seifa[['score_adv_disadv', 'score_disadv', 'score_eco_resource', 'score_edu_occ']] = seifa[['score_adv_disadv', 'score_disadv', 'score_eco_resource', 'score_edu_occ']].apply(lambda x: pd.to_numeric(x, errors='coerce'))\n"
   ]
  },
  {
   "cell_type": "code",
   "execution_count": null,
   "metadata": {},
   "outputs": [],
   "source": [
    "seifa.tail()"
   ]
  },
  {
   "cell_type": "markdown",
   "metadata": {},
   "source": [
    "### Geographical Data"
   ]
  },
  {
   "cell_type": "code",
   "execution_count": null,
   "metadata": {},
   "outputs": [],
   "source": [
    "import geopandas as gpd\n",
    "import shapely\n",
    "from shapely.geometry import Point, Polygon"
   ]
  },
  {
   "cell_type": "code",
   "execution_count": null,
   "metadata": {},
   "outputs": [],
   "source": [
    "d = gpd.read_file(\"./data/1270055003_poa_2016_aust_shape/POA_2016_AUST.dbf\")"
   ]
  },
  {
   "cell_type": "code",
   "execution_count": null,
   "metadata": {},
   "outputs": [],
   "source": [
    "d = d[d.geometry.notna()]"
   ]
  },
  {
   "cell_type": "code",
   "execution_count": null,
   "metadata": {},
   "outputs": [],
   "source": [
    "d.head()"
   ]
  },
  {
   "cell_type": "code",
   "execution_count": null,
   "metadata": {},
   "outputs": [],
   "source": [
    "d['centroids'] = d.geometry.centroid\n",
    "d['centroids_x'] = d.geometry.centroid.x\n",
    "d['centroids_y'] = d.geometry.centroid.y\n",
    "d['postcode'] = d.POA_CODE16"
   ]
  },
  {
   "cell_type": "code",
   "execution_count": null,
   "metadata": {},
   "outputs": [],
   "source": [
    "d['geom_sim'] = d.simplify(.001, preserve_topology = True)"
   ]
  },
  {
   "cell_type": "markdown",
   "metadata": {},
   "source": [
    "#### Create Sydney Data"
   ]
  },
  {
   "cell_type": "code",
   "execution_count": null,
   "metadata": {},
   "outputs": [],
   "source": [
    "cbd = d.loc[d.POA_CODE16 == \"2000\", ].centroids"
   ]
  },
  {
   "cell_type": "code",
   "execution_count": null,
   "metadata": {},
   "outputs": [],
   "source": [
    "cbd.iloc[0].distance(d.iloc[0].centroids)"
   ]
  },
  {
   "cell_type": "code",
   "execution_count": null,
   "metadata": {},
   "outputs": [],
   "source": [
    "syd = [\"2000\", \"2006\", \"2007\", \"2008\", \"2009\", \"2010\", \"2011\", \"2015\", \"2016\", \"2017\", \"2018\", \"2019\", \"2020\", \"2021\", \"2032\", \"2035\", \"2036\", \"2037\", \"2038\", \"2039\", \"2040\", \"2041\", \"2042\", \"2043\", \"2044\", \"2048\", \"2049\", \"2050\", \"2203\", \"2204\",  \n",
    "        \"2021\", \"2022\", \"2023\", \"2024\", \"2025\", \"2026\", \"2027\", \"2028\", \"2029\", \"2030\", \"2031\", \"2032\", \"2033\", \"2034\", \"2035\", \"2036\",  \n",
    "        \"2172\", \"2205\", \"2207\", \"2208\", \"2209\", \"2210\", \"2216\", \"2217\", \"2218\", \"2219\", \"2220\", \"2221\", \"2222\", \"2223\", \"2224\", \"2225\", \"2226\", \"2227\", \"2228\", \"2229\", \"2230\", \"2231\", \"2232\", \"2233\", \"2234\",  \n",
    "        \"2133\", \"2143\", \"2161\", \"2162\", \"2163\", \"2190\", \"2191\", \"2192\", \"2193\", \"2194\", \"2195\", \"2196\", \"2197\", \"2198\", \"2199\", \"2200\", \"2206\", \"2208\", \"2209\", \"2210\", \"2211\", \"2212\", \"2213\", \"2214\", \n",
    "        \"2161\", \"2163\", \"2164\", \"2165\", \"2166\", \"2168\", \"2170\", \"2171\", \"2172\", \"2173\", \"2174\", \"2175\", \"2176\", \"2177\", \"2178\", \"2179\", \"2555\", \"2556\", \"2557\", \"2565\", \"2745\", \n",
    "        \"2167\", \"2174\", \"2179\", \"2557\", \"2558\", \"2559\", \"2560\", \"2563\", \"2564\", \"2565\", \"2566\", \"2567\", \"2568\", \"2569\", \"2570\", \"2571\", \"2572\", \"2573\", \"2574\", \"2745\", \"2752\", \"2787\", \n",
    "        \"2045\", \"2046\", \"2047\", \"2130\", \"2131\", \"2132\", \"2133\", \"2134\", \"2135\", \"2136\", \"2137\", \"2138\", \"2140\", \"2190\", \"2191\", \"2193\", \n",
    "        \"2115\", \"2116\", \"2117\", \"2118\", \"2121\", \"2122\", \"2127\", \"2128\", \"2140\", \"2141\", \"2142\", \"2143\", \"2144\", \"2145\", \"2146\", \"2148\", \"2150\", \"2151\", \"2152\", \"2153\", \"2160\", \"2161\", \"2162\", \"2164\", \n",
    "        \"2178\", \"2745\", \"2747\", \"2748\", \"2749\", \"2750\", \"2753\", \"2754\", \"2755\", \"2756\", \"2757\", \"2758\", \"2759\", \"2760\", \"2765\", \"2773\", \"2774\", \"2775\", \"2776\", \"2777\", \"2778\", \"2779\", \"2780\", \"2782\", \"2783\", \"2784\", \"2785\", \"2786\", \n",
    "        \"2146\", \"2147\", \"2148\", \"2155\", \"2760\", \"2761\", \"2762\", \"2763\", \"2765\", \"2766\", \"2767\", \"2768\", \"2770\", \n",
    "        \"2060\", \"2061\", \"2062\", \"2063\", \"2064\", \"2065\", \"2066\", \"2067\", \"2068\", \"2069\", \"2088\", \"2089\", \"2090\", \"2109\", \"2110\", \"2111\", \"2112\", \"2113\", \"2114\", \"2122\", \n",
    "        \"2069\", \"2070\", \"2071\", \"2072\", \"2073\", \"2074\", \"2075\", \"2076\", \"2077\", \"2079\", \"2080\", \"2081\", \"2082\", \"2083\", \"2117\", \"2118\", \"2119\", \"2120\", \"2121\", \"2122\", \"2125\", \"2126\", \"2151\", \"2152\", \"2153\", \"2154\", \"2155\", \"2156\", \"2157\", \"2158\", \"2159\", \"2756\", \"2765\", \"2775\", \n",
    "        \"2084\", \"2085\", \"2086\", \"2087\", \"2092\", \"2093\", \"2094\", \"2095\", \"2096\", \"2097\", \"2099\", \"2100\", \"2101\", \"2102\", \"2103\", \"2104\", \"2105\", \"2106\", \"2107\", \"2108\", \n",
    "        \"2083\", \"2250\", \"2251\", \"2256\", \"2257\", \"2258\", \"2259\", \"2260\", \"2261\", \"2262\", \"2263\", \"2775\"]"
   ]
  },
  {
   "cell_type": "code",
   "execution_count": null,
   "metadata": {},
   "outputs": [],
   "source": [
    "acf_syd = acf[acf.Q4.isin(syd)]\n",
    "acf_syd = acf_syd.assign(Q4 = acf_syd.Q4.astype('int32'))"
   ]
  },
  {
   "cell_type": "code",
   "execution_count": null,
   "metadata": {},
   "outputs": [],
   "source": [
    "seifa_syd = seifa[seifa.postcode.isin(map(int, syd))]\n",
    "seifa_syd.set_index(seifa_syd.postcode.astype('int32'), drop = True, inplace = True)"
   ]
  },
  {
   "cell_type": "code",
   "execution_count": null,
   "metadata": {},
   "outputs": [],
   "source": [
    "d_syd = d[d.POA_CODE16.isin(syd)]\n",
    "d_syd = d_syd.assign(dist_to_cbd = pd.Series([c.distance(cbd.iloc[0]) for c in d_syd.centroids]),\n",
    "                     dist_to_cbd_lon = pd.Series([np.abs(cbd.iloc[0].x - c.x) for c in d_syd.centroids]),\n",
    "                     dist_to_cbd_lat = pd.Series([np.abs(cbd.iloc[0].y - c.y) for c in d_syd.centroids]))"
   ]
  },
  {
   "cell_type": "code",
   "execution_count": null,
   "metadata": {},
   "outputs": [],
   "source": [
    "d_syd.set_index(d_syd.POA_CODE16.astype('int32'), drop = True, inplace = True)"
   ]
  },
  {
   "cell_type": "code",
   "execution_count": null,
   "metadata": {},
   "outputs": [],
   "source": [
    "score_gallery_avg = acf_syd.groupby('Q4').apply(lambda x: np.average(x['score_gallery'], weights = x.WEIGHT) )\n",
    "score_locations_avg = acf_syd.groupby('Q4').apply(lambda x: np.average(x['score_locations'], weights = x.WEIGHT) )\n",
    "score_internet_avg = acf_syd.groupby('Q4').apply(lambda x: np.average(x['score_internet'], weights = x.WEIGHT) )\n",
    "score_art_consumption_avg = acf_syd.groupby('Q4').apply(lambda x: np.average(x['score_art_consumption'], weights = x.WEIGHT) )"
   ]
  },
  {
   "cell_type": "markdown",
   "metadata": {},
   "source": [
    "#### Merge data sets"
   ]
  },
  {
   "cell_type": "code",
   "execution_count": null,
   "metadata": {},
   "outputs": [],
   "source": [
    "d_syd = d_syd.merge(pd.DataFrame(score_gallery_avg), how = 'left', left_index = True, right_index = True)\n",
    "d_syd.rename(columns={0: 'score_gallery_avg'}, inplace=True)\n",
    "d_syd = d_syd.merge(pd.DataFrame(score_locations_avg), how = 'left', left_index = True, right_index = True)\n",
    "d_syd.rename(columns={0: 'score_locations_avg'}, inplace=True)\n",
    "d_syd = d_syd.merge(pd.DataFrame(score_internet_avg), how = 'left', left_index = True, right_index = True)\n",
    "d_syd.rename(columns={0: 'score_internet_avg'}, inplace=True)\n",
    "d_syd = d_syd.merge(pd.DataFrame(score_art_consumption_avg), how = 'left', left_index = True, right_index = True)\n",
    "d_syd.rename(columns={0: 'score_art_consumption_avg'}, inplace=True)"
   ]
  },
  {
   "cell_type": "code",
   "execution_count": null,
   "metadata": {},
   "outputs": [],
   "source": [
    "d_syd = d_syd.merge(seifa_syd, how = 'left', left_index = True, right_index = True)"
   ]
  },
  {
   "cell_type": "code",
   "execution_count": null,
   "metadata": {},
   "outputs": [],
   "source": [
    "d_syd.columns"
   ]
  },
  {
   "cell_type": "code",
   "execution_count": null,
   "metadata": {},
   "outputs": [],
   "source": [
    "d_syd_corrs = d_syd[['dist_to_cbd', 'dist_to_cbd_lon', 'dist_to_cbd_lat', 'score_gallery_avg',\n",
    "       'score_locations_avg', 'score_internet_avg',\n",
    "       'score_art_consumption_avg', \n",
    "       'score_adv_disadv', 'score_disadv', \n",
    "       'score_eco_resource', 'score_edu_occ']]"
   ]
  },
  {
   "cell_type": "markdown",
   "metadata": {},
   "source": [
    "### Initial Graphs"
   ]
  },
  {
   "cell_type": "code",
   "execution_count": null,
   "metadata": {},
   "outputs": [],
   "source": [
    "gpd.GeoSeries(d_syd.geometry).plot();"
   ]
  },
  {
   "cell_type": "code",
   "execution_count": null,
   "metadata": {},
   "outputs": [],
   "source": [
    "# d_syd.loc[d_syd.score_gallery_avg.isna(),'score_gallery_avg'] = 0.\n",
    "# d_syd.loc[d_syd.score_locations_avg.isna(),'score_locations_avg'] = 0.\n",
    "# d_syd.loc[d_syd.score_internet_avg.isna(),'score_internet_avg'] = 0.\n",
    "# d_syd.loc[d_syd.score_art_consumption_avg.isna(),'score_art_consumption_avg'] = 0.\n"
   ]
  },
  {
   "cell_type": "code",
   "execution_count": null,
   "metadata": {},
   "outputs": [],
   "source": [
    "ax = d_syd.plot(color=\"grey\", alpha = 0.1)\n",
    "\n",
    "d_syd_with_vals = d_syd[pd.notnull(d_syd['score_art_consumption_avg'])]\n",
    "d_syd_with_vals.plot(ax = ax, column='score_art_consumption_avg', cmap = 'coolwarm');"
   ]
  },
  {
   "cell_type": "code",
   "execution_count": null,
   "metadata": {},
   "outputs": [],
   "source": [
    "# From https://stackoverflow.com/questions/29432629/correlation-matrix-using-pandas\n",
    "\n",
    "sm = pd.plotting.scatter_matrix(d_syd_corrs, alpha = 0.3, figsize = (14,8), diagonal = 'kde')\n",
    "sm;"
   ]
  },
  {
   "cell_type": "code",
   "execution_count": null,
   "metadata": {},
   "outputs": [],
   "source": [
    "f, ax = plt.subplots(figsize=(10, 8))\n",
    "corr = d_syd_corrs.corr()\n",
    "sns.heatmap(corr, vmin = -1.0, vmax = 1.0, mask=np.zeros_like(corr, dtype=np.bool), cmap=sns.diverging_palette(10, 220, as_cmap=True),\n",
    "            square=True, ax=ax);"
   ]
  },
  {
   "cell_type": "markdown",
   "metadata": {},
   "source": [
    "## Density"
   ]
  },
  {
   "cell_type": "markdown",
   "metadata": {},
   "source": [
    "Add [GDAL](http://www.gdal.org/) imports."
   ]
  },
  {
   "cell_type": "code",
   "execution_count": null,
   "metadata": {},
   "outputs": [],
   "source": [
    "from osgeo import gdal\n",
    "from osgeo import ogr\n",
    "from osgeo import osr\n"
   ]
  },
  {
   "cell_type": "markdown",
   "metadata": {},
   "source": [
    "Load Australia's [2016 population densities](http://www.abs.gov.au/ausstats/abs@.nsf/Previousproducts/3218.0Main%20Features702015-16?opendocument&tabname=Summary&prodno=3218.0&issue=2015-16&num=&view=), supplied by ABS. These figures are derived from \"estimated residential populations\" measured in $1km^2$ grid cells, which they term Australian Population Grid (APG). ABS refers to these as Australian Population Grid. Pre-computed average densities are available in KML format for LGA and SA2 but not for postcode levels. \n",
    "\n",
    "The steps below compute average and maximum densities for postcodes. It uses the ESRI Shapefile format, available on the ABS's APG [Downloads](http://www.abs.gov.au/AUSSTATS/abs@.nsf/DetailsPage/3218.02015-16?OpenDocument) page.\n",
    "\n"
   ]
  },
  {
   "cell_type": "code",
   "execution_count": null,
   "metadata": {},
   "outputs": [],
   "source": [
    "#apg_src = gdal.Open(\"./data/apg_2016/apg16e_1_0_0/\", gdal.GA_ReadOnly)\n",
    "apg_src = gdal.Open(\"./data/apg1617e_1\", gdal.GA_ReadOnly)\n"
   ]
  },
  {
   "cell_type": "markdown",
   "metadata": {},
   "source": [
    "Check the transformation data. Details obtained from <http://geoinformaticstutorial.blogspot.com.au/2012/09/reading-raster-data-with-python-and-gdal.html>."
   ]
  },
  {
   "cell_type": "code",
   "execution_count": null,
   "metadata": {},
   "outputs": [],
   "source": [
    "geotransform = apg_src.GetGeoTransform() \n",
    "print(\"top left x :\", geotransform[0]) # top left x \n",
    "print(\"w-e pixel resolution :\", geotransform[1]) # w-e pixel resolution \n",
    "print(\"rotation, 0 if image is 'north up' :\", geotransform[2]) # rotation, 0 if image is \"north up\" \n",
    "print(\"top left y :\", geotransform[3]) # top left y \n",
    "print(\"rotation, 0 if image is 'north up' :\", geotransform[4]) # rotation, 0 if image is \"north up\" \n",
    "print(\"n-s pixel resolution *:\", geotransform[5]) # n-s pixel resolution *\n",
    "    "
   ]
  },
  {
   "cell_type": "markdown",
   "metadata": {},
   "source": [
    "Print the minimum and maximum grid coordinates."
   ]
  },
  {
   "cell_type": "code",
   "execution_count": null,
   "metadata": {},
   "outputs": [],
   "source": [
    "minx = geotransform[0]\n",
    "miny = geotransform[3]\n",
    "stepx = geotransform[1]\n",
    "stepy = geotransform[5]\n",
    "maxx = minx + geotransform[1] * apg_src.RasterXSize\n",
    "maxy = miny + geotransform[5] * apg_src.RasterYSize\n",
    "\n",
    "print(\"Projection details (minimum): \", (minx, miny))\n",
    "print(\"Step details: \", (stepx, stepy))\n",
    "print(\"Projection details (maximum): \", (maxx, maxy))"
   ]
  },
  {
   "cell_type": "markdown",
   "metadata": {},
   "source": [
    "Print the grid's projection details."
   ]
  },
  {
   "cell_type": "code",
   "execution_count": null,
   "metadata": {},
   "outputs": [],
   "source": [
    "prj_wkt = apg_src.GetProjection()\n",
    "print(\"Projection details: \", prj_wkt)"
   ]
  },
  {
   "cell_type": "markdown",
   "metadata": {},
   "source": [
    "Print the number of bands in the raster file."
   ]
  },
  {
   "cell_type": "code",
   "execution_count": null,
   "metadata": {},
   "outputs": [],
   "source": [
    "print(\"[ RASTER BAND COUNT ]: \", apg_src.RasterCount)"
   ]
  },
  {
   "cell_type": "markdown",
   "metadata": {},
   "source": [
    "Print details about the first (and what should be the only) raster band."
   ]
  },
  {
   "cell_type": "code",
   "execution_count": null,
   "metadata": {},
   "outputs": [],
   "source": [
    "srcband = apg_src.GetRasterBand(1)"
   ]
  },
  {
   "cell_type": "code",
   "execution_count": null,
   "metadata": {},
   "outputs": [],
   "source": [
    "print(\"[ NO DATA VALUE ] = \", srcband.GetNoDataValue())\n",
    "print(\"[ MIN ] = \", srcband.GetMinimum())\n",
    "print(\"[ MAX ] = \", srcband.GetMaximum())\n",
    "print(\"[ SCALE ] = \", srcband.GetScale())\n",
    "print(\"[ UNIT TYPE ] = \", srcband.GetUnitType())"
   ]
  },
  {
   "cell_type": "markdown",
   "metadata": {},
   "source": [
    "Define the start (X,Y) - North and West - coordinates for Sydney, and read in the following $100^2 (= 10,000)$ cells. For rendering purposes, values less than zero are replaced with zeros. \n",
    "\n",
    "The furthermost East coordinates should have zero densities -- they should be in the ocean!"
   ]
  },
  {
   "cell_type": "code",
   "execution_count": null,
   "metadata": {},
   "outputs": [],
   "source": [
    "start_x, start_y = 5583, 2763\n",
    "pxls = srcband.ReadAsArray(start_x, start_y, 100, 100).astype(np.float)\n",
    "pxls[pxls < 0] = 0\n",
    "\n",
    "print(\"North West corner density: \", pxls[0,0])\n",
    "print(\"North East corner density: \", pxls[0,99])\n",
    "print(\"South West corner density: \", pxls[99,0])\n",
    "print(\"South East corner density: \", pxls[99,99])"
   ]
  },
  {
   "cell_type": "markdown",
   "metadata": {},
   "source": [
    "Free up resources."
   ]
  },
  {
   "cell_type": "code",
   "execution_count": null,
   "metadata": {},
   "outputs": [],
   "source": [
    "# apg_src = None\n",
    "# srcband = None"
   ]
  },
  {
   "cell_type": "markdown",
   "metadata": {},
   "source": [
    "Plot the densities."
   ]
  },
  {
   "cell_type": "code",
   "execution_count": null,
   "metadata": {},
   "outputs": [],
   "source": [
    "im = pxls\n",
    "im[im == -3.4028234663852886e+38] = 0\n",
    "plt.imshow(im, cmap=plt.cm.Greys,vmin = 0,vmax = np.max(pxls));"
   ]
  },
  {
   "cell_type": "markdown",
   "metadata": {},
   "source": [
    "Develop transformations to and from the ABS Shapefile representation and longitude/latitude.\n",
    "\n",
    "Formats are defined by [EPSG](http://www.epsg.org/) (European Petroleum Survey Group). "
   ]
  },
  {
   "cell_type": "code",
   "execution_count": null,
   "metadata": {},
   "outputs": [],
   "source": [
    "# Add the points\n",
    "points = []\n",
    "for i in range(pxls.shape[1]):\n",
    "    for j in range(pxls.shape[0]):\n",
    "        point = ogr.Geometry(ogr.wkbPoint)\n",
    "        point.AddPoint(minx + start_x * stepx + j*1000, miny + start_y * stepy + i * stepy, pxls[i, j])\n",
    "        points.append(point)\n",
    "\n",
    "# Convert to Numpy array\n",
    "points = np.array(points)\n",
    "\n",
    "# The existing projection\n",
    "inSpatialRef = osr.SpatialReference(wkt=prj_wkt)\n",
    "\n",
    "# The standard long./lat. format\n",
    "outputEPSG = 4326\n",
    "outSpatialRef = osr.SpatialReference()\n",
    "outSpatialRef.ImportFromEPSG(outputEPSG)\n",
    "\n",
    "# In -> Out\n",
    "forwardTransform = osr.CoordinateTransformation(inSpatialRef, outSpatialRef)\n",
    "# Out -> In\n",
    "backTransform = osr.CoordinateTransformation(outSpatialRef, inSpatialRef)\n",
    "\n",
    "# Functions mapping forward and back\n",
    "def f(pt):\n",
    "    return pt.Transform(forwardTransform)\n",
    "\n",
    "def b(pt):\n",
    "    return pt.Transform(backTransform)\n",
    "\n",
    "# # An alternative vectorised form - for now, not working\n",
    "# transformer = lambda pt: pt.Transform(coordTransform)\n",
    "# vfunc = np.vectorize(f)\n",
    "\n",
    "# Test forward and back\n",
    "print(\"Initial point: \", points[0])\n",
    "\n",
    "# Comprehension conversion: forward\n",
    "[f(pt) for pt in points]\n",
    "print(\"Converted point: \", points[0])\n",
    "\n",
    "# Comprehension conversion: Back\n",
    "[b(pt) for pt in points]\n",
    "print(\"Converted back (= initial): \", points[0])\n",
    "\n"
   ]
  },
  {
   "cell_type": "markdown",
   "metadata": {},
   "source": [
    "Retrieve points from the geometry."
   ]
  },
  {
   "cell_type": "code",
   "execution_count": null,
   "metadata": {},
   "outputs": [],
   "source": [
    "from shapely.geometry import shape, mapping, Point\n",
    "points_sim = np.array([p.GetPoint() for p in points])\n",
    "print(\"Simplified point representation:\", points_sim[0]) "
   ]
  },
  {
   "cell_type": "markdown",
   "metadata": {},
   "source": [
    "Convert point array back into a *map height x width* representation. This will make calculating mean and maximum densities for postcode shapes easier."
   ]
  },
  {
   "cell_type": "code",
   "execution_count": null,
   "metadata": {},
   "outputs": [],
   "source": [
    "points_shp = np.reshape(points_sim, (pxls.shape[1], pxls.shape[0], 3))\n",
    "print(\"Shape of points_shp:\", points_shp.shape)\n",
    "xmin, ymin, _ = points_shp[0, 0]\n",
    "print(\"NW coordinates: \", (xmin, ymin))\n",
    "xmax, ymax, _ = points_shp[99, 99]\n",
    "print(\"SE coordinates: \", (xmax, ymax))\n"
   ]
  },
  {
   "cell_type": "markdown",
   "metadata": {},
   "source": [
    "First, create a 2-dimensional array, where the first dimension is equal to the number of Sydney postcodes.\n",
    "\n",
    "Then, iterate through each of the postcode shapes, and add all point values (representing $1km^2$ residential population) within those shapes to the corresponding arrays.\n",
    "\n",
    "As an optimisation, only points within the rectangular bounds of the shapes are tested for whether they belong to the shapes themselves."
   ]
  },
  {
   "cell_type": "code",
   "execution_count": null,
   "metadata": {},
   "outputs": [],
   "source": [
    "d_pts = [[] for i in range(len(d_syd))]\n",
    "\n",
    "for i in range(len(d_syd)):\n",
    "    # Obtain the bounds\n",
    "    gxmin, gymin, gxmax, gymax = d_syd.iloc[i].geom_sim.bounds\n",
    "    # Convert the bounds to the ESPG format of the population grid.\n",
    "    gmin = ogr.Geometry(ogr.wkbPoint)\n",
    "    gmin.AddPoint(gxmin, gymin)\n",
    "    b(gmin)\n",
    "    gmin = gmin.GetPoint()\n",
    "    gmax = ogr.Geometry(ogr.wkbPoint)\n",
    "    gmax.AddPoint(gxmax, gymax)\n",
    "    b(gmax)\n",
    "    gmax = gmax.GetPoint()\n",
    "    # Obtain the offsets into the grid representation itself\n",
    "    xomin = int(np.round((gmin[0] - xmin) / stepx))\n",
    "    xomax = int(np.round((gmax[0] - xmin)  / stepx))\n",
    "    yomin = int(np.round((gmax[1] - ymin) / stepy))\n",
    "    yomax = int(np.round((gmin[1] - ymin) / stepy))\n",
    "    # Slice the 2-dimensional APG representation, and for ease of iteration, flatten to a (10,000, 3) array.\n",
    "    lpts = points_shp[yomin:yomax+1, xomin:xomax+1, :]\n",
    "    lpts = (np.reshape(lpts, (lpts.shape[0] * lpts.shape[1],3)))\n",
    "    \n",
    "    # Iterate through the point to test for inclusion with this shape.\n",
    "    for pt in lpts:\n",
    "        pt0 = ogr.Geometry(ogr.wkbPoint)\n",
    "        pt0.AddPoint(pt[0], pt[1])\n",
    "        # This time, convert the grid representation to the postcode shapefile representation.\n",
    "        f(pt0)\n",
    "        pt_sim = Point(pt0.GetPoint()[0], pt0.GetPoint()[1])\n",
    "        # Test whether the point belongs to the postcode, and add it to the array if so.\n",
    "        if pt_sim.within(d_syd.iloc[i].geom_sim):\n",
    "            # Ignore the coordinates - just append the value\n",
    "            d_pts[i].append(pt[2])\n"
   ]
  },
  {
   "cell_type": "markdown",
   "metadata": {},
   "source": [
    "Convert the resulting array to a Numpy equivalent, and obtain mean and maximum values."
   ]
  },
  {
   "cell_type": "code",
   "execution_count": null,
   "metadata": {},
   "outputs": [],
   "source": [
    "d_pts = [[0] if len(x) == 0 else x for x in d_pts]\n",
    "d_pts = np.array(d_pts)\n",
    "pt_mns = np.array([np.nanmean(x) for x in d_pts])\n",
    "pt_mxs = np.array([np.nanmax(x) for x in d_pts])\n",
    "print(\"Maximum postcode mean: \", max(pt_mns))\n",
    "print(\"Minimum postcode mean: \", min(pt_mns))\n",
    "\n",
    "print(\"Maximum postcode max: \", max(pt_mxs))\n",
    "print(\"Minimum postcode max: \", min(pt_mxs))\n",
    "\n"
   ]
  },
  {
   "cell_type": "markdown",
   "metadata": {},
   "source": [
    "An alternative and simpler version. Not working, as none of the EPSG codes reported in the projection are found."
   ]
  },
  {
   "cell_type": "code",
   "execution_count": null,
   "metadata": {},
   "outputs": [],
   "source": [
    "# from pyproj import Proj, transform\n",
    "\n",
    "# inProj = Proj(init='epsg:7019')\n",
    "# outProj = Proj(init='epsg:4326')\n",
    "# x1,y1 = -3853000.0,-1012000.0\n",
    "# x2,y2 = transform(inProj,outProj,x1,y1)\n",
    "# print(x2,y2)"
   ]
  },
  {
   "cell_type": "markdown",
   "metadata": {},
   "source": [
    "Normalise densities and log of densities."
   ]
  },
  {
   "cell_type": "code",
   "execution_count": null,
   "metadata": {},
   "outputs": [],
   "source": [
    "pt_mns_norm = (pt_mns + 1.)  / np.max((pt_mns + 1.))\n",
    "pt_mns_norm_log = np.log(pt_mns + 1.)  / np.max(np.log(pt_mns + 1.))"
   ]
  },
  {
   "cell_type": "markdown",
   "metadata": {},
   "source": [
    "Plots the normalised densities."
   ]
  },
  {
   "cell_type": "code",
   "execution_count": null,
   "metadata": {},
   "outputs": [],
   "source": [
    "from descartes.patch import PolygonPatch\n",
    "\n",
    "plt.figure()\n",
    "ax = plt.axes()\n",
    "ax.set_aspect('equal')\n",
    "\n",
    "# build the polygon from exterior points\n",
    "bounds = d_syd.geometry.bounds\n",
    "for i in range(len(d_syd.geom_sim)):\n",
    "    p = d_syd.iloc[i].geom_sim\n",
    "    intensity = pt_mns_norm[i]\n",
    "    patch = PolygonPatch(p, facecolor=[0,0,intensity], edgecolor=[0,0,0], alpha=0.7, zorder=2)\n",
    "    ax.add_patch(patch)\n",
    "\n",
    "# use bbox (bounding box) to set plot limits\n",
    "plt.xlim(np.min(bounds.minx),np.max(bounds.maxx))\n",
    "plt.ylim(np.min(bounds.miny),np.max(bounds.maxy))\n"
   ]
  },
  {
   "cell_type": "markdown",
   "metadata": {},
   "source": [
    "Plots the normalised log densities."
   ]
  },
  {
   "cell_type": "code",
   "execution_count": null,
   "metadata": {},
   "outputs": [],
   "source": [
    "plt.figure()\n",
    "ax = plt.axes()\n",
    "ax.set_aspect('equal')\n",
    "\n",
    "# build the polygon from exterior points\n",
    "bounds = d_syd.geometry.bounds\n",
    "for i in range(len(d_syd.geom_sim)):\n",
    "    p = d_syd.iloc[i].geom_sim\n",
    "    intensity = pt_mns_norm_log[i]\n",
    "    patch = PolygonPatch(p, facecolor=[0,0,intensity], edgecolor=[0,0,0], alpha=0.7, zorder=2)\n",
    "    ax.add_patch(patch)\n",
    "\n",
    "# use bbox (bounding box) to set plot limits\n",
    "plt.xlim(np.min(bounds.minx),np.max(bounds.maxx))\n",
    "plt.ylim(np.min(bounds.miny),np.max(bounds.maxy))\n"
   ]
  },
  {
   "cell_type": "code",
   "execution_count": 228,
   "metadata": {},
   "outputs": [],
   "source": [
    "acf.to_csv('data/acf.csv')"
   ]
  },
  {
   "cell_type": "markdown",
   "metadata": {},
   "source": [
    "# Deep Learning Experiments"
   ]
  },
  {
   "cell_type": "code",
   "execution_count": 26,
   "metadata": {},
   "outputs": [],
   "source": [
    "import torch"
   ]
  },
  {
   "cell_type": "code",
   "execution_count": 177,
   "metadata": {},
   "outputs": [],
   "source": [
    "acf['dummy'] = 0.\n"
   ]
  },
  {
   "cell_type": "code",
   "execution_count": 178,
   "metadata": {},
   "outputs": [],
   "source": [
    "# cat_vars = ['Q39C1']\n",
    "cat_vars = ['STATE', 'Q38', 'Q39C1', 'Q39C2', 'Q39C3', 'Q39C4', 'Q39C5', 'Q39C6', 'Q39C7', 'Q39C8', 'Q39C9', \n",
    "           'Q40C1', 'Q40C2', 'Q40C3', 'Q40C4', 'Q40C5', 'sex', 'emplst']\n",
    "# , 'soc8cla'\n",
    "\n",
    "# contin_vars = ['soc4cla']\n",
    "contin_vars = ['dummy']\n",
    "#contin_vars = ['Q38', 'soc8cla', 'soc4cla', 'soc3cla']\n",
    "#contin_vars = ['soc8cla']"
   ]
  },
  {
   "cell_type": "code",
   "execution_count": 179,
   "metadata": {},
   "outputs": [],
   "source": [
    "contin2_vars = []\n",
    "# contin2_vars = [\"Q5\", \"Q16\", \"Q24\", \"Q25\", \"Q37\", \"q49\", \"q50\", \"q51\", \"q56\", ]"
   ]
  },
  {
   "cell_type": "code",
   "execution_count": 180,
   "metadata": {},
   "outputs": [
    {
     "name": "stdout",
     "output_type": "stream",
     "text": [
      "[]\n"
     ]
    }
   ],
   "source": [
    "contin2_vars = [t.upper() for t in contin2_vars]\n",
    "print(contin2_vars)"
   ]
  },
  {
   "cell_type": "code",
   "execution_count": 181,
   "metadata": {},
   "outputs": [],
   "source": [
    "cat2_vars = [\"Q5\", \"Q16\", \"Q24\", \"Q25\", \"Q37\", \"q49\", \"q50\", \"q51\", \"q56\", ]\n",
    "cat2_vars = [\"Q7c1\", \"Q7c2\", \"Q7c3\", \"Q7c4\",\n",
    "              \"Q7c5\", \"Q7c6\", \"Q7c7\", \"Q7c8\", \"Q7c9\", \"Q7c10\", \"Q7c11\", \"Q8c1\", \"Q8c2\", \"Q8c3\", \"Q8c4\", \"Q8c5\", \"Q8c6\", \"Q8c7\", \"Q8c8\", \"Q8c9\", \"Q8c10\", \"Q8c11\", \"Q9c1\", \"Q9c2\", \"Q9c3\", \"Q9c4\", \"Q9c5\", \"Q9c6\", \"Q9c7\", \"Q9c8\", \"Q9c9\", \"Q13a_1\", \"Q13a_2\", \"Q13b_1\", \"Q13b_2\", \"Q13c_1\", \"Q13c_2\", \"Q13d_1\", \"Q13d_2\", \"Q13e_1\", \"Q13e_2\", \"Q13f_1\", \"Q13f_2\", \"Q13g_1\"]\n",
    "cat2_vars += [\"Q13g_2\", \"Q13h_1\", \"Q13h_2\", \"Q13i_1\", \"Q13i_2\", \"Q13j_1\", \"Q13j_2\", \"Q14a_1\", \"Q14a_2\", \"Q14b_1\", \"Q14b_2\", \"Q14c_1\", \"Q14c_2\", \"Q14d_1\", \"Q14d_2\", \"Q14e_1\", \"Q14e_2\", \"Q14f_1\", \"Q14f_2\", \"Q14g_1\", \"Q14g_2\", \"Q14h_1\", \"Q14h_2\", \"Q14i_1\", \"Q14i_2\", \"Q14j_1\", \"Q14j_2\", \"Q15a_1\", \"Q15a_2\", \"Q15b_1\", \"Q15b_2\", \"Q15c_1\", \"Q15c_2\", \"Q15d_1\", \"Q15d_2\", \"Q15e_1\", \"Q15e_2\", \"Q15f_1\", \"Q15f_2\", \"Q15g_1\", \"Q15g_2\", \"Q15h_1\", \"Q15h_2\", \"Q15i_1\", \"Q15i_2\", \"Q15j_1\", \"Q15j_2\",  \"Q17\", \"Q18c1\", \"Q18c2\", \"Q18c3\", \"Q18c4\", \"Q18c5\", \"Q18c6\", \"Q18c7\", \"Q18c8\", \"Q18c9\", \"Q18c10\", \"Q18c11\", \"Q19c1\", \"Q19c2\", \"Q19c3\", \"Q19c4\", \"Q19c5\", \"Q19c6\", \"Q19c7\", \"Q19c8\", \"Q19c9\", \"Q19c10\", \"Q19c11\", \"Q20c1\", \"Q20c2\", \"Q20c3\", \"Q20c4\", \"Q20c5\", \"Q20c6\", \"Q20c7\", \"Q20c8\", \"Q20c9\", \"Q20c10\", \"Q20c11\", \"Q21c1\", \"Q21c2\", \"Q21c3\", \"Q21c4\", \"Q21c5\", \"Q21c6\", \"Q21c7\", \"Q21c8\", \"Q21c9\", \"Q21c10\", \"Q22a_1\", \"Q22a_2\", \"Q22b_1\", \"Q22b_2\", \"Q22c_1\", \"Q22c_2\", \"Q22d_1\", \"Q22d_2\", \"Q22e_1\", \"Q22e_2\", \"Q22f_1\", \"Q22f_2\", \"Q22g_1\", \"Q22g_2\", \"Q22h_1\", \"Q22h_2\", \"Q22i_1\", \"Q22i_2\", \"Q22j_1\", \"Q22j_2\", \"Q23a_1\", \"Q23a_2\", \"Q23b_1\", \"Q23b_2\", \"Q23c_1\", \"Q23c_2\", \"Q23d_1\", \"Q23d_2\", \"Q23e_1\", \"Q23e_2\", \"Q23f_1\", \"Q23f_2\", \"Q23g_1\", \"Q23g_2\", \"Q23h_1\", \"Q23h_2\", \"Q23i_1\", \"Q23i_2\", \"Q23j_1\", \"Q23j_2\"]\n",
    "cat2_vars += [\"Q26a\", \"Q26b\", \"Q26c\", \"Q26d\", \"Q26e\", \"Q26f\", \"Q27c1\", \"Q27c2\", \"Q27c3\", \"Q27c4\", \"Q27c5\", \"Q27c6\", \"Q27c7\", \"Q27c8\", \"Q27c9\", \"Q27c10\", \"Q27c11\", \"Q28c1\", \"Q28c2\", \"Q28c3\", \"Q28c4\", \"Q28c5\", \"Q28c6\", \"Q28c7\", \"Q28c8\", \"Q28c9\", \"Q28c10\", \"Q28c11\", \"Q29a_1\", \"Q29a_2\", \"Q29b_1\", \"Q29b_2\", \"Q29c_1\", \"Q29c_2\", \"Q29d_1\", \"Q29d_2\", \"Q29e_1\", \"Q29e_2\", \"Q29f_1\", \"Q29f_2\", \"Q29g_1\", \"Q29g_2\", \"Q29h_1\", \"Q29h_2\", \"Q29i_1\", \"Q29i_2\", \"Q29j_1\", \"Q29j_2\", \"Q30a_1\", \"Q30a_2\", \"Q30b_1\", \"Q30b_2\", \"Q30c_1\", \"Q30c_2\", \"Q30d_1\", \"Q30d_2\", \"Q30e_1\", \"Q30e_2\", \"Q30f_1\", \"Q30f_2\", \"Q30g_1\", \"Q30g_2\", \"Q30h_1\", \"Q30h_2\", \"Q30i_1\", \"Q30i_2\", \"Q30j_1\", \"Q30j_2\", \"Q31c1\", \"Q31c2\", \"Q31c3\", \"Q31c4\", \"Q31c5\", \"Q31c6\", \"Q31c7\", \"Q31c8\", \"Q31c9\", \"Q31c10\", \"Q31c11\", \"Q32c1\", \"Q32c2\", \"Q32c3\", \"Q32c4\", \"Q32c5\", \"Q32c6\", \"Q32c7\", \"Q32c8\", \"Q33a_1\", \"Q33a_2\", \"Q33b_1\", \"Q33b_2\", \"Q33c_1\", \"Q33c_2\", \"Q33d_1\", \"Q33d_2\", \"Q33e_1\", \"Q33e_2\", \"Q33f_1\", \"Q33f_2\", \"Q33g_1\", \"Q33g_2\", \"Q33h_1\", \"Q33h_2\", \"Q33i_1\", \"Q33i_2\", \"Q33j_1\", \"Q33j_2\", \"Q34a_1\", \"Q34a_2\", \"Q34b_1\", \"Q34b_2\", \"Q34c_1\", \"Q34c_2\", \"Q34d_1\", \"Q34d_2\", \"Q34e_1\", \"Q34e_2\", \"Q34f_1\", \"Q34f_2\", \"Q34g_1\", \"Q34g_2\", \"Q34h_1\", \"Q34h_2\", \"Q34i_1\", \"Q34i_2\", \"Q34j_1\", \"Q34j_2\", \"Q35c1\", \"Q35c2\", \"Q35c3\", \"Q35c4\", \"Q35c5\", \"Q35c6\", \"Q35c7\", \"Q35c8\", \"Q35c9\"]\n",
    "cat2_vars += [\"Q36c1\", \"Q36c2\", \"Q36c3\", \"Q36c4\", \"Q36c5\", \"Q36c6\", \"Q36c7\", \"Q36c8\", \"Q36c9\", \"Q41c1\", \"Q41c2\", \"Q41c3\", \"Q41c4\", \"Q41c5\", \"Q41c6\", \"Q41c7\", \"Q41c8\", \"Q41c9\", \"Q41c10\", \"Q41c11\", \"Q42c1\", \"Q42c2\", \"Q42c3\", \"Q42c4\", \"Q42c5\", \"Q42c6\", \"Q42c7\", \"Q42c8\", \"Q42c9\", \"Q42c10\", \"Q42c11\", \"Q43a_1\", \"Q43a_2\", \"Q43b_1\", \"Q43b_2\", \"Q43c_1\", \"Q43c_2\", \"Q43d_1\", \"Q43d_2\", \"Q43e_1\", \"Q43e_2\", \"Q43f_1\", \"Q43f_2\", \"Q43g_1\", \"Q43g_2\", \"Q43h_1\", \"Q43h_2\", \"Q43i_1\", \"Q43i_2\", \"Q43j_1\", \"Q43j_2\", \"Q44a_1\", \"Q44a_2\", \"Q44b_1\", \"Q44b_2\", \"Q44c_1\", \"Q44c_2\", \"Q44d_1\", \"Q44d_2\", \"Q44e_1\", \"Q44e_2\", \"Q44f_1\", \"Q44f_2\", \"Q44g_1\", \"Q44g_2\", \"Q44h_1\", \"Q44h_2\", \"Q44i_1\", \"Q44i_2\", \"Q44j_1\", \"Q44j_2\", \"Q45c1\", \"Q45c2\", \"Q45c3\", \"Q45c4\", \"Q46c1\", \"Q46c2\", \"Q46c3\", \"Q46c4\", \"Q46c5\", \"Q46c6\", \"Q46c7\", \"Q46c8\", \"Q46c9\", \"Q46c10\", \"Q46c11\", \"Q46c12\", \"Q46c13\", \"Q46c14\", \"Q47a_1\", \"Q47a_2\", \"Q47b_1\", \"Q47b_2\", \"Q47c_1\", \"Q47c_2\", \"Q47d_1\"]\n",
    "cat2_vars += [\"Q47d_2\", \"Q47e_1\", \"Q47e_2\", \"Q47f_1\", \"Q47f_2\", \"Q47g_1\", \"Q47g_2\", \"Q47h_1\", \"Q47h_2\", \"Q47i_1\", \"Q47i_2\", \"Q47j_1\", \"Q47j_2\", \"Q48\", \"Q48a_1\", \"Q48a_2\", \"Q48b_1\", \"Q48b_2\", \"Q48c_1\", \"Q48c_2\", \"Q48d_1\", \"Q48d_2\", \"Q48e_1\", \"Q48e_2\", \"Q48f_1\", \"Q48f_2\", \"Q48g_1\", \"Q48g_2\", \"Q48h_1\", \"Q48h_2\", \"Q48i_1\", \"Q48i_2\", \"Q48j_1\", \"Q48j_2\", \"Q52c1\", \"Q52c2\", \"Q52c3\", \"Q52c4\", \"Q52c5\", \"Q52c6\", \"Q52c7\", \"Q52c8\", \"Q52c9\", \"Q52c10\", \"Q53a\", \"Q53b\", \"Q53c\", \"Q53d\", \"Q53e\", \"Q53f\", \"Q53g\", \"Q54a\", \"Q54b\", \"Q54c\", \"Q54d\", \"Q54e\", \"Q54f\", \"Q54g\", \"Q54h\", \"Q57c1\", \"Q57c2\", \"Q57c3\", \"Q57c4\", \"Q57c5\", \"Q57c6\", \"Q57c7\"]\n",
    "\n",
    "cat3_vars = [\"Q58\", \"Q59\", \"Q60\", \"Q61\", \"Q62\", \"Q63\", \"Q64\", \"Q64o\", \"Q65\", \"Q65o\", \"Q66\", \"Q67_pipe\", \"Q67\", \"Q67o\", \"Q68\", \"Q68o\", \"Q67_abs\", \"Q69\", \"Q70\", \"Q71\", \"Q72c1\", \"Q72c2\", \"Q72c3\", \"Q72a\", \"Q72b\", \"Q73\", \"Q74_pipe\", \"Q74\", \"Q74o\", \"Q74_abs\", \"Q75\", \"Q76c1\", \"Q76c2\", \"Q76c3\", \"Q77\", \"Q78\", \"Q79c1\", \"Q79c2\", \"Q79c3\", \"Q79c4\", \"Q80\", \"Q80o\", \"Q83\", \"Q83o\", \"Q84\", \"Q84ac1\", \"Q84ac2\", \"Q84ac3\", \"Q84ac4\", \"Q84ac5\", \"Q84ac6\", \"Q84ac7\", \"Q85\", \"Q85o\", \"Q86\", \"Q86o\", \"Q87c1\", \"Q87c2\", \"Q87c3\", \"Q87c4\", \"Q87c5\", \"Q87c6\", \"Q87c7\", \"Q87c8\", \"Q87c9\", \"Q87c10\", \"Q87c10o\", \"Q87c11\", \"Q88a\", \"Q88b\", \"Q89\", \"Q90_select\", \"Q90\", \"Q90a\", \"Q91\", \"Q92\", \"Q95\", \"int99\", \"int990\", \"issues\", \"issueso\", \"agec7\", \"nphouh\", \"educa\", \"sisoccl\", \"housinc\", \"tvwatch\", \"nitv\", \"tvauspr\", \"houlmus\", \"nebookh\", \"nbookho\", \"tspind\", \"tstind\", \"tskind\", \"tspaus\", \"tstaus\", \"tskaus\", \"tspusa\", \"tstusa\", \"tskusa\", \"tspuk\", \"tstuk\", \"tskuk\", \"tspeu\", \"tsteu\", \"tskeu\", \"tspasi\", \"tstasi\", \"tskasi\", \"emplst\", \"soc8cla\", \"soc5cla\", \"soc3cla\", \"ausenor\", \"clapref\", \"sex\", \"age\", \"nphouh1\", \"tvtech\", \"fatvch\", \"educap\", \"edespf\", \"univst\", \"coubirt\", \"educam\", \"educaf\", \"valubus\", \"homwor\", \"soc4cla\", \"fatvch1\", \"Q11o1\"]\n",
    "\n",
    "cat2_vars = [t.upper() for t in cat2_vars]\n",
    "cat3_vars = [t.upper() for t in cat3_vars]"
   ]
  },
  {
   "cell_type": "code",
   "execution_count": 182,
   "metadata": {},
   "outputs": [],
   "source": [
    "cat_vars += cat2_vars\n",
    "contin_vars += contin2_vars"
   ]
  },
  {
   "cell_type": "code",
   "execution_count": 183,
   "metadata": {},
   "outputs": [],
   "source": [
    "#dep = 'age'\n",
    "#dep = 'Q61'\n",
    "dep = 'sex'\n",
    "cat_vars.remove(dep)"
   ]
  },
  {
   "cell_type": "code",
   "execution_count": 184,
   "metadata": {},
   "outputs": [],
   "source": [
    "sacf = acf[['RecordNo', \n",
    "            dep] + cat_vars + contin_vars]\n",
    "sacf = sacf.sample(frac=1)"
   ]
  },
  {
   "cell_type": "code",
   "execution_count": 185,
   "metadata": {},
   "outputs": [],
   "source": [
    "# sacf['age'] = sacf.loc[:,'age'].interpolate()"
   ]
  },
  {
   "cell_type": "code",
   "execution_count": 186,
   "metadata": {},
   "outputs": [],
   "source": [
    "sacf.dropna(axis=0, how='any', subset=[dep], inplace=True)"
   ]
  },
  {
   "cell_type": "code",
   "execution_count": 187,
   "metadata": {},
   "outputs": [],
   "source": [
    "#sacf['age'] = sacf['age'].fillna(sacf['age'].mean())"
   ]
  },
  {
   "cell_type": "code",
   "execution_count": 188,
   "metadata": {},
   "outputs": [
    {
     "data": {
      "text/plain": [
       "1202"
      ]
     },
     "execution_count": 188,
     "metadata": {},
     "output_type": "execute_result"
    }
   ],
   "source": [
    "len(sacf['RecordNo'])"
   ]
  },
  {
   "cell_type": "code",
   "execution_count": 189,
   "metadata": {},
   "outputs": [],
   "source": [
    "#for i in sacf.columns: print(i)"
   ]
  },
  {
   "cell_type": "code",
   "execution_count": 190,
   "metadata": {},
   "outputs": [
    {
     "data": {
      "text/plain": [
       "1202"
      ]
     },
     "execution_count": 190,
     "metadata": {},
     "output_type": "execute_result"
    }
   ],
   "source": [
    "n = len(sacf); n"
   ]
  },
  {
   "cell_type": "code",
   "execution_count": 191,
   "metadata": {},
   "outputs": [],
   "source": [
    "\n",
    "for v in cat_vars: sacf[v] = sacf[v].astype('category').cat.as_ordered()\n",
    "for v in contin_vars: sacf[v] = sacf[v].astype('float32')\n",
    "sacf[dep].astype('float32')\n",
    "# sacf[dep] = sacf[dep].astype('category').cat.as_ordered()\n",
    "sacf = sacf[cat_vars+contin_vars+[dep, \"RecordNo\"]]"
   ]
  },
  {
   "cell_type": "code",
   "execution_count": 192,
   "metadata": {},
   "outputs": [],
   "source": [
    "sacf['sex'] = sacf['sex'] + 1"
   ]
  },
  {
   "cell_type": "code",
   "execution_count": 193,
   "metadata": {},
   "outputs": [],
   "source": [
    "idxs = get_cv_idxs(n, val_pct=1202/n)"
   ]
  },
  {
   "cell_type": "code",
   "execution_count": 194,
   "metadata": {},
   "outputs": [],
   "source": [
    "sacf = sacf.set_index(\"RecordNo\")"
   ]
  },
  {
   "cell_type": "code",
   "execution_count": 195,
   "metadata": {},
   "outputs": [],
   "source": [
    "sacf_samp = sacf.iloc[idxs]"
   ]
  },
  {
   "cell_type": "code",
   "execution_count": 196,
   "metadata": {},
   "outputs": [
    {
     "data": {
      "text/plain": [
       "1202"
      ]
     },
     "execution_count": 196,
     "metadata": {},
     "output_type": "execute_result"
    }
   ],
   "source": [
    "samp_size = len(sacf_samp); samp_size"
   ]
  },
  {
   "cell_type": "code",
   "execution_count": null,
   "metadata": {},
   "outputs": [],
   "source": []
  },
  {
   "cell_type": "code",
   "execution_count": 197,
   "metadata": {},
   "outputs": [],
   "source": [
    "# df, y, nas, mapper = proc_df(sacf_samp, 'soc8cla', do_scale=True)\n",
    "df, y, nas, mapper = proc_df(sacf, dep, do_scale=True)\n",
    "yl = np.log(y)"
   ]
  },
  {
   "cell_type": "code",
   "execution_count": 198,
   "metadata": {},
   "outputs": [],
   "source": [
    "\n",
    "# train_ratio = 0.75\n",
    "train_ratio = 0.9\n",
    "train_size = int(samp_size * train_ratio); train_size\n",
    "val_idx = list(range(train_size, len(df)))"
   ]
  },
  {
   "cell_type": "code",
   "execution_count": 199,
   "metadata": {},
   "outputs": [
    {
     "data": {
      "text/plain": [
       "121"
      ]
     },
     "execution_count": 199,
     "metadata": {},
     "output_type": "execute_result"
    }
   ],
   "source": [
    "len(val_idx)"
   ]
  },
  {
   "cell_type": "code",
   "execution_count": 200,
   "metadata": {},
   "outputs": [],
   "source": [
    "md = ColumnarModelData.from_data_frame('data/path', val_idx, df, yl, cat_flds=cat_vars, bs=8)"
   ]
  },
  {
   "cell_type": "code",
   "execution_count": 201,
   "metadata": {},
   "outputs": [],
   "source": [
    "def inv_y(a): return np.exp(a)\n",
    "\n",
    "def exp_rmspe(y_pred, targ):\n",
    "    targ = inv_y(targ)\n",
    "    pct_var = (targ - inv_y(y_pred))/targ\n",
    "    return math.sqrt((pct_var**2).mean())\n",
    "\n",
    "def mse(y_pred, targ):\n",
    "    targ = inv_y(targ)\n",
    "    y_pred = inv_y(y_pred)\n",
    "    return math.sqrt(((y_pred-targ)**2).mean())\n",
    "\n",
    "max_log_y = np.max(yl)\n",
    "y_range = (0, max_log_y*1.2)"
   ]
  },
  {
   "cell_type": "code",
   "execution_count": 202,
   "metadata": {},
   "outputs": [],
   "source": [
    "cat_sz = [(c, len(sacf_samp[c].cat.categories)+1) for c in cat_vars]\n"
   ]
  },
  {
   "cell_type": "code",
   "execution_count": 203,
   "metadata": {},
   "outputs": [],
   "source": [
    "emb_szs = [(c, min(50, (c+1)//2)) for _,c in cat_sz]"
   ]
  },
  {
   "cell_type": "code",
   "execution_count": 204,
   "metadata": {},
   "outputs": [
    {
     "name": "stderr",
     "output_type": "stream",
     "text": [
      "/home/ubuntu/repos/fastai/fastai/column_data.py:101: UserWarning: nn.init.kaiming_normal is now deprecated in favor of nn.init.kaiming_normal_.\n",
      "  for o in self.lins: kaiming_normal(o.weight.data)\n",
      "/home/ubuntu/repos/fastai/fastai/column_data.py:103: UserWarning: nn.init.kaiming_normal is now deprecated in favor of nn.init.kaiming_normal_.\n",
      "  kaiming_normal(self.outp.weight.data)\n"
     ]
    }
   ],
   "source": [
    "m = md.get_learner(emb_szs, len(df.columns)-len(cat_vars),\n",
    "                   0.04, 1, [1000,500], [0.001,0.01], y_range=y_range)\n"
   ]
  },
  {
   "cell_type": "code",
   "execution_count": 205,
   "metadata": {},
   "outputs": [
    {
     "data": {
      "application/vnd.jupyter.widget-view+json": {
       "model_id": "1ad2e898874745b180ec88deb74d471d",
       "version_major": 2,
       "version_minor": 0
      },
      "text/plain": [
       "HBox(children=(IntProgress(value=0, description='Epoch', max=1), HTML(value='')))"
      ]
     },
     "metadata": {},
     "output_type": "display_data"
    },
    {
     "name": "stdout",
     "output_type": "stream",
     "text": [
      "epoch      trn_loss   val_loss   \n",
      "    0      0.230662   0.250153  \n",
      "\n"
     ]
    },
    {
     "data": {
      "image/png": "[encoded data removed]",
      "text/plain": [
       "<Figure size 864x648 with 1 Axes>"
      ]
     },
     "metadata": {},
     "output_type": "display_data"
    }
   ],
   "source": [
    "m.lr_find()\n",
    "m.sched.plot(1)"
   ]
  },
  {
   "cell_type": "code",
   "execution_count": 221,
   "metadata": {},
   "outputs": [
    {
     "name": "stderr",
     "output_type": "stream",
     "text": [
      "/home/ubuntu/repos/fastai/fastai/column_data.py:101: UserWarning: nn.init.kaiming_normal is now deprecated in favor of nn.init.kaiming_normal_.\n",
      "  for o in self.lins: kaiming_normal(o.weight.data)\n",
      "/home/ubuntu/repos/fastai/fastai/column_data.py:103: UserWarning: nn.init.kaiming_normal is now deprecated in favor of nn.init.kaiming_normal_.\n",
      "  kaiming_normal(self.outp.weight.data)\n"
     ]
    }
   ],
   "source": [
    "m = md.get_learner(emb_szs, len(df.columns)-len(cat_vars),\n",
    "                   0.04, 1, [1000,500], [0.001,0.01], y_range=y_range)\n",
    "lr = 10e-5 # * 5"
   ]
  },
  {
   "cell_type": "code",
   "execution_count": 222,
   "metadata": {},
   "outputs": [
    {
     "data": {
      "application/vnd.jupyter.widget-view+json": {
       "model_id": "9f69d7368000480689f0a45cd98048a9",
       "version_major": 2,
       "version_minor": 0
      },
      "text/plain": [
       "HBox(children=(IntProgress(value=0, description='Epoch', max=10), HTML(value='')))"
      ]
     },
     "metadata": {},
     "output_type": "display_data"
    },
    {
     "name": "stdout",
     "output_type": "stream",
     "text": [
      "epoch      trn_loss   val_loss   exp_rmspe  mse        \n",
      "    0      0.080877   0.059441   0.271593   0.335584  \n",
      "    1      0.056558   0.05459    0.271951   0.31037   \n",
      "    2      0.047135   0.040493   0.206696   0.283492  \n",
      "    3      0.0374     0.051106   0.270912   0.30098   \n",
      "    4      0.029905   0.036126   0.206007   0.259955  \n",
      "    5      0.028116   0.041816   0.226424   0.279389  \n",
      "    6      0.020508   0.034978   0.200828   0.259877  \n",
      "    7      0.018463   0.033975   0.208094   0.252234  \n",
      "    8      0.014524   0.037335   0.221873   0.265177  \n",
      "    9      0.009949   0.035636   0.185931   0.271469  \n",
      "\n"
     ]
    },
    {
     "data": {
      "text/plain": [
       "[0.03563572047663129, 0.18593092987312215, 0.2714685505178819]"
      ]
     },
     "execution_count": 222,
     "metadata": {},
     "output_type": "execute_result"
    }
   ],
   "source": [
    "m.fit(lr,10, metrics=[exp_rmspe,mse]) #, cycle_len=1, cycle_mult=2\n"
   ]
  },
  {
   "cell_type": "code",
   "execution_count": 223,
   "metadata": {},
   "outputs": [
    {
     "data": {
      "image/png": "[encoded data removed]",
      "text/plain": [
       "<Figure size 864x648 with 1 Axes>"
      ]
     },
     "metadata": {},
     "output_type": "display_data"
    }
   ],
   "source": [
    "def create_output_df(m, idx):\n",
    "    outp = pd.DataFrame({\"ID\":idx,\n",
    "                         \"actual\":np.append([np.exp(m.data.trn_y)],[np.exp(m.data.val_y)]), \n",
    "                         \"predicted\":np.append([np.nan for i in m.data.trn_y],[np.round(np.exp(m.predict()))])})\n",
    "#     outp = pd.DataFrame({\"ID\":idx,\n",
    "#                          \"actual\":np.append([np.exp(m.data.trn_y)],[np.exp(m.data.val_y)]), \n",
    "#                          \"predicted\":np.append([np.nan for i in m.data.trn_y],[np.exp(m.predict())])})\n",
    "    return(outp)\n",
    "\n",
    "outp = create_output_df(m,sacf.index)\n",
    "plt.plot(outp[\"actual\"][-1000:], alpha = 0.5)\n",
    "# plt.plot(outp[\"rand\"][-1000:], alpha = 0.5)\n",
    "plt.plot(outp[\"predicted\"][-1000:], alpha = 0.5)\n",
    "plt.show()\n"
   ]
  },
  {
   "cell_type": "code",
   "execution_count": 224,
   "metadata": {},
   "outputs": [],
   "source": [
    "s = sacf[dep].std()\n",
    "m = sacf[dep].mean()\n",
    "l = len(sacf[dep])\n",
    "dist = s * np.random.rand(l) + m"
   ]
  },
  {
   "cell_type": "code",
   "execution_count": 225,
   "metadata": {},
   "outputs": [
    {
     "name": "stdout",
     "output_type": "stream",
     "text": [
      "0.10743801652892562\n",
      "0.47254575707154745\n"
     ]
    }
   ],
   "source": [
    "outp['predicted'] = np.round(outp['predicted'])\n",
    "outp['dp'] = (outp['predicted'] - outp['actual']).abs()\n",
    "outp['dr'] = np.round((dist - outp['actual']).abs())\n",
    "\n",
    "print(outp['dp'].mean())\n",
    "print(outp['dr'].mean())\n"
   ]
  },
  {
   "cell_type": "code",
   "execution_count": 226,
   "metadata": {},
   "outputs": [
    {
     "name": "stdout",
     "output_type": "stream",
     "text": [
      "Incorrect guesses: 13.0\n",
      "Incorrect randoms: 568.0\n",
      "Percentage accuracy: 114089.25619834711\n"
     ]
    }
   ],
   "source": [
    "print(\"Incorrect guesses:\", outp['dp'].sum())\n",
    "print(\"Incorrect randoms:\", outp['dr'].sum())\n",
    "print(\"Percentage accuracy:\", 100 * (sum(val_idx) - outp['dp'].sum()) / len(val_idx))"
   ]
  },
  {
   "cell_type": "code",
   "execution_count": 227,
   "metadata": {},
   "outputs": [
    {
     "data": {
      "text/html": [
       "<div>\n",
       "<style scoped>\n",
       "    .dataframe tbody tr th:only-of-type {\n",
       "        vertical-align: middle;\n",
       "    }\n",
       "\n",
       "    .dataframe tbody tr th {\n",
       "        vertical-align: top;\n",
       "    }\n",
       "\n",
       "    .dataframe thead th {\n",
       "        text-align: right;\n",
       "    }\n",
       "</style>\n",
       "<table border=\"1\" class=\"dataframe\">\n",
       "  <thead>\n",
       "    <tr style=\"text-align: right;\">\n",
       "      <th></th>\n",
       "      <th>ID</th>\n",
       "      <th>actual</th>\n",
       "      <th>predicted</th>\n",
       "      <th>dp</th>\n",
       "      <th>dr</th>\n",
       "    </tr>\n",
       "  </thead>\n",
       "  <tbody>\n",
       "    <tr>\n",
       "      <th>1081</th>\n",
       "      <td>b'0000002401'</td>\n",
       "      <td>2.0</td>\n",
       "      <td>1.0</td>\n",
       "      <td>1.0</td>\n",
       "      <td>0.0</td>\n",
       "    </tr>\n",
       "    <tr>\n",
       "      <th>1082</th>\n",
       "      <td>b'0000003402'</td>\n",
       "      <td>1.0</td>\n",
       "      <td>1.0</td>\n",
       "      <td>0.0</td>\n",
       "      <td>1.0</td>\n",
       "    </tr>\n",
       "    <tr>\n",
       "      <th>1083</th>\n",
       "      <td>b'0000008369'</td>\n",
       "      <td>2.0</td>\n",
       "      <td>1.0</td>\n",
       "      <td>1.0</td>\n",
       "      <td>0.0</td>\n",
       "    </tr>\n",
       "    <tr>\n",
       "      <th>1084</th>\n",
       "      <td>b'0000006138'</td>\n",
       "      <td>1.0</td>\n",
       "      <td>2.0</td>\n",
       "      <td>1.0</td>\n",
       "      <td>1.0</td>\n",
       "    </tr>\n",
       "    <tr>\n",
       "      <th>1085</th>\n",
       "      <td>b'0000047834'</td>\n",
       "      <td>2.0</td>\n",
       "      <td>2.0</td>\n",
       "      <td>0.0</td>\n",
       "      <td>0.0</td>\n",
       "    </tr>\n",
       "    <tr>\n",
       "      <th>1086</th>\n",
       "      <td>b'0000014705'</td>\n",
       "      <td>2.0</td>\n",
       "      <td>2.0</td>\n",
       "      <td>0.0</td>\n",
       "      <td>0.0</td>\n",
       "    </tr>\n",
       "    <tr>\n",
       "      <th>1087</th>\n",
       "      <td>b'0000000958'</td>\n",
       "      <td>2.0</td>\n",
       "      <td>2.0</td>\n",
       "      <td>0.0</td>\n",
       "      <td>0.0</td>\n",
       "    </tr>\n",
       "    <tr>\n",
       "      <th>1088</th>\n",
       "      <td>b'0000006939'</td>\n",
       "      <td>2.0</td>\n",
       "      <td>2.0</td>\n",
       "      <td>0.0</td>\n",
       "      <td>0.0</td>\n",
       "    </tr>\n",
       "    <tr>\n",
       "      <th>1089</th>\n",
       "      <td>b'0000015103'</td>\n",
       "      <td>1.0</td>\n",
       "      <td>1.0</td>\n",
       "      <td>0.0</td>\n",
       "      <td>1.0</td>\n",
       "    </tr>\n",
       "    <tr>\n",
       "      <th>1090</th>\n",
       "      <td>b'0000012456'</td>\n",
       "      <td>1.0</td>\n",
       "      <td>1.0</td>\n",
       "      <td>0.0</td>\n",
       "      <td>1.0</td>\n",
       "    </tr>\n",
       "    <tr>\n",
       "      <th>1091</th>\n",
       "      <td>b'0000011512'</td>\n",
       "      <td>2.0</td>\n",
       "      <td>2.0</td>\n",
       "      <td>0.0</td>\n",
       "      <td>0.0</td>\n",
       "    </tr>\n",
       "    <tr>\n",
       "      <th>1092</th>\n",
       "      <td>b'0000065910'</td>\n",
       "      <td>2.0</td>\n",
       "      <td>2.0</td>\n",
       "      <td>0.0</td>\n",
       "      <td>0.0</td>\n",
       "    </tr>\n",
       "    <tr>\n",
       "      <th>1093</th>\n",
       "      <td>b'0000001564'</td>\n",
       "      <td>1.0</td>\n",
       "      <td>1.0</td>\n",
       "      <td>0.0</td>\n",
       "      <td>1.0</td>\n",
       "    </tr>\n",
       "    <tr>\n",
       "      <th>1094</th>\n",
       "      <td>b'0000014600'</td>\n",
       "      <td>2.0</td>\n",
       "      <td>2.0</td>\n",
       "      <td>0.0</td>\n",
       "      <td>0.0</td>\n",
       "    </tr>\n",
       "    <tr>\n",
       "      <th>1095</th>\n",
       "      <td>b'0000017231'</td>\n",
       "      <td>1.0</td>\n",
       "      <td>1.0</td>\n",
       "      <td>0.0</td>\n",
       "      <td>1.0</td>\n",
       "    </tr>\n",
       "    <tr>\n",
       "      <th>1096</th>\n",
       "      <td>b'0000003025'</td>\n",
       "      <td>1.0</td>\n",
       "      <td>1.0</td>\n",
       "      <td>0.0</td>\n",
       "      <td>1.0</td>\n",
       "    </tr>\n",
       "    <tr>\n",
       "      <th>1097</th>\n",
       "      <td>b'0000012822'</td>\n",
       "      <td>2.0</td>\n",
       "      <td>2.0</td>\n",
       "      <td>0.0</td>\n",
       "      <td>0.0</td>\n",
       "    </tr>\n",
       "    <tr>\n",
       "      <th>1098</th>\n",
       "      <td>b'0000000126'</td>\n",
       "      <td>2.0</td>\n",
       "      <td>2.0</td>\n",
       "      <td>0.0</td>\n",
       "      <td>0.0</td>\n",
       "    </tr>\n",
       "    <tr>\n",
       "      <th>1099</th>\n",
       "      <td>b'0000002341'</td>\n",
       "      <td>2.0</td>\n",
       "      <td>2.0</td>\n",
       "      <td>0.0</td>\n",
       "      <td>0.0</td>\n",
       "    </tr>\n",
       "    <tr>\n",
       "      <th>1100</th>\n",
       "      <td>b'0000058949'</td>\n",
       "      <td>2.0</td>\n",
       "      <td>2.0</td>\n",
       "      <td>0.0</td>\n",
       "      <td>0.0</td>\n",
       "    </tr>\n",
       "    <tr>\n",
       "      <th>1101</th>\n",
       "      <td>b'0000016444'</td>\n",
       "      <td>1.0</td>\n",
       "      <td>1.0</td>\n",
       "      <td>0.0</td>\n",
       "      <td>1.0</td>\n",
       "    </tr>\n",
       "    <tr>\n",
       "      <th>1102</th>\n",
       "      <td>b'0000013302'</td>\n",
       "      <td>1.0</td>\n",
       "      <td>1.0</td>\n",
       "      <td>0.0</td>\n",
       "      <td>1.0</td>\n",
       "    </tr>\n",
       "    <tr>\n",
       "      <th>1103</th>\n",
       "      <td>b'0000017646'</td>\n",
       "      <td>1.0</td>\n",
       "      <td>1.0</td>\n",
       "      <td>0.0</td>\n",
       "      <td>1.0</td>\n",
       "    </tr>\n",
       "    <tr>\n",
       "      <th>1104</th>\n",
       "      <td>b'0000050281'</td>\n",
       "      <td>1.0</td>\n",
       "      <td>1.0</td>\n",
       "      <td>0.0</td>\n",
       "      <td>1.0</td>\n",
       "    </tr>\n",
       "    <tr>\n",
       "      <th>1105</th>\n",
       "      <td>b'0000001970'</td>\n",
       "      <td>1.0</td>\n",
       "      <td>1.0</td>\n",
       "      <td>0.0</td>\n",
       "      <td>1.0</td>\n",
       "    </tr>\n",
       "    <tr>\n",
       "      <th>1106</th>\n",
       "      <td>b'0000011730'</td>\n",
       "      <td>1.0</td>\n",
       "      <td>1.0</td>\n",
       "      <td>0.0</td>\n",
       "      <td>1.0</td>\n",
       "    </tr>\n",
       "    <tr>\n",
       "      <th>1107</th>\n",
       "      <td>b'0000013611'</td>\n",
       "      <td>2.0</td>\n",
       "      <td>2.0</td>\n",
       "      <td>0.0</td>\n",
       "      <td>0.0</td>\n",
       "    </tr>\n",
       "    <tr>\n",
       "      <th>1108</th>\n",
       "      <td>b'0000048814'</td>\n",
       "      <td>1.0</td>\n",
       "      <td>1.0</td>\n",
       "      <td>0.0</td>\n",
       "      <td>1.0</td>\n",
       "    </tr>\n",
       "    <tr>\n",
       "      <th>1109</th>\n",
       "      <td>b'0000046259'</td>\n",
       "      <td>2.0</td>\n",
       "      <td>2.0</td>\n",
       "      <td>0.0</td>\n",
       "      <td>0.0</td>\n",
       "    </tr>\n",
       "    <tr>\n",
       "      <th>1110</th>\n",
       "      <td>b'0000045799'</td>\n",
       "      <td>1.0</td>\n",
       "      <td>1.0</td>\n",
       "      <td>0.0</td>\n",
       "      <td>1.0</td>\n",
       "    </tr>\n",
       "    <tr>\n",
       "      <th>...</th>\n",
       "      <td>...</td>\n",
       "      <td>...</td>\n",
       "      <td>...</td>\n",
       "      <td>...</td>\n",
       "      <td>...</td>\n",
       "    </tr>\n",
       "    <tr>\n",
       "      <th>1172</th>\n",
       "      <td>b'0000005514'</td>\n",
       "      <td>1.0</td>\n",
       "      <td>1.0</td>\n",
       "      <td>0.0</td>\n",
       "      <td>1.0</td>\n",
       "    </tr>\n",
       "    <tr>\n",
       "      <th>1173</th>\n",
       "      <td>b'0000000062'</td>\n",
       "      <td>1.0</td>\n",
       "      <td>1.0</td>\n",
       "      <td>0.0</td>\n",
       "      <td>1.0</td>\n",
       "    </tr>\n",
       "    <tr>\n",
       "      <th>1174</th>\n",
       "      <td>b'0000047024'</td>\n",
       "      <td>1.0</td>\n",
       "      <td>1.0</td>\n",
       "      <td>0.0</td>\n",
       "      <td>1.0</td>\n",
       "    </tr>\n",
       "    <tr>\n",
       "      <th>1175</th>\n",
       "      <td>b'0000017798'</td>\n",
       "      <td>2.0</td>\n",
       "      <td>1.0</td>\n",
       "      <td>1.0</td>\n",
       "      <td>0.0</td>\n",
       "    </tr>\n",
       "    <tr>\n",
       "      <th>1176</th>\n",
       "      <td>b'0000014410'</td>\n",
       "      <td>1.0</td>\n",
       "      <td>1.0</td>\n",
       "      <td>0.0</td>\n",
       "      <td>1.0</td>\n",
       "    </tr>\n",
       "    <tr>\n",
       "      <th>1177</th>\n",
       "      <td>b'0000045944'</td>\n",
       "      <td>1.0</td>\n",
       "      <td>1.0</td>\n",
       "      <td>0.0</td>\n",
       "      <td>1.0</td>\n",
       "    </tr>\n",
       "    <tr>\n",
       "      <th>1178</th>\n",
       "      <td>b'0000008069'</td>\n",
       "      <td>2.0</td>\n",
       "      <td>2.0</td>\n",
       "      <td>0.0</td>\n",
       "      <td>0.0</td>\n",
       "    </tr>\n",
       "    <tr>\n",
       "      <th>1179</th>\n",
       "      <td>b'0000002956'</td>\n",
       "      <td>1.0</td>\n",
       "      <td>1.0</td>\n",
       "      <td>0.0</td>\n",
       "      <td>1.0</td>\n",
       "    </tr>\n",
       "    <tr>\n",
       "      <th>1180</th>\n",
       "      <td>b'0000002661'</td>\n",
       "      <td>2.0</td>\n",
       "      <td>2.0</td>\n",
       "      <td>0.0</td>\n",
       "      <td>0.0</td>\n",
       "    </tr>\n",
       "    <tr>\n",
       "      <th>1181</th>\n",
       "      <td>b'0000007702'</td>\n",
       "      <td>2.0</td>\n",
       "      <td>2.0</td>\n",
       "      <td>0.0</td>\n",
       "      <td>0.0</td>\n",
       "    </tr>\n",
       "    <tr>\n",
       "      <th>1182</th>\n",
       "      <td>b'0000008528'</td>\n",
       "      <td>1.0</td>\n",
       "      <td>1.0</td>\n",
       "      <td>0.0</td>\n",
       "      <td>1.0</td>\n",
       "    </tr>\n",
       "    <tr>\n",
       "      <th>1183</th>\n",
       "      <td>b'0000017479'</td>\n",
       "      <td>2.0</td>\n",
       "      <td>2.0</td>\n",
       "      <td>0.0</td>\n",
       "      <td>0.0</td>\n",
       "    </tr>\n",
       "    <tr>\n",
       "      <th>1184</th>\n",
       "      <td>b'0000059942'</td>\n",
       "      <td>2.0</td>\n",
       "      <td>2.0</td>\n",
       "      <td>0.0</td>\n",
       "      <td>0.0</td>\n",
       "    </tr>\n",
       "    <tr>\n",
       "      <th>1185</th>\n",
       "      <td>b'0000055968'</td>\n",
       "      <td>2.0</td>\n",
       "      <td>2.0</td>\n",
       "      <td>0.0</td>\n",
       "      <td>0.0</td>\n",
       "    </tr>\n",
       "    <tr>\n",
       "      <th>1186</th>\n",
       "      <td>b'0000057015'</td>\n",
       "      <td>2.0</td>\n",
       "      <td>2.0</td>\n",
       "      <td>0.0</td>\n",
       "      <td>0.0</td>\n",
       "    </tr>\n",
       "    <tr>\n",
       "      <th>1187</th>\n",
       "      <td>b'0000001513'</td>\n",
       "      <td>1.0</td>\n",
       "      <td>1.0</td>\n",
       "      <td>0.0</td>\n",
       "      <td>1.0</td>\n",
       "    </tr>\n",
       "    <tr>\n",
       "      <th>1188</th>\n",
       "      <td>b'0000049606'</td>\n",
       "      <td>1.0</td>\n",
       "      <td>1.0</td>\n",
       "      <td>0.0</td>\n",
       "      <td>1.0</td>\n",
       "    </tr>\n",
       "    <tr>\n",
       "      <th>1189</th>\n",
       "      <td>b'0000053855'</td>\n",
       "      <td>1.0</td>\n",
       "      <td>1.0</td>\n",
       "      <td>0.0</td>\n",
       "      <td>1.0</td>\n",
       "    </tr>\n",
       "    <tr>\n",
       "      <th>1190</th>\n",
       "      <td>b'0000010801'</td>\n",
       "      <td>2.0</td>\n",
       "      <td>2.0</td>\n",
       "      <td>0.0</td>\n",
       "      <td>0.0</td>\n",
       "    </tr>\n",
       "    <tr>\n",
       "      <th>1191</th>\n",
       "      <td>b'0000015243'</td>\n",
       "      <td>1.0</td>\n",
       "      <td>1.0</td>\n",
       "      <td>0.0</td>\n",
       "      <td>1.0</td>\n",
       "    </tr>\n",
       "    <tr>\n",
       "      <th>1192</th>\n",
       "      <td>b'0000054135'</td>\n",
       "      <td>1.0</td>\n",
       "      <td>1.0</td>\n",
       "      <td>0.0</td>\n",
       "      <td>1.0</td>\n",
       "    </tr>\n",
       "    <tr>\n",
       "      <th>1193</th>\n",
       "      <td>b'0000005494'</td>\n",
       "      <td>2.0</td>\n",
       "      <td>2.0</td>\n",
       "      <td>0.0</td>\n",
       "      <td>0.0</td>\n",
       "    </tr>\n",
       "    <tr>\n",
       "      <th>1194</th>\n",
       "      <td>b'0000007514'</td>\n",
       "      <td>2.0</td>\n",
       "      <td>1.0</td>\n",
       "      <td>1.0</td>\n",
       "      <td>0.0</td>\n",
       "    </tr>\n",
       "    <tr>\n",
       "      <th>1195</th>\n",
       "      <td>b'0000015169'</td>\n",
       "      <td>2.0</td>\n",
       "      <td>1.0</td>\n",
       "      <td>1.0</td>\n",
       "      <td>0.0</td>\n",
       "    </tr>\n",
       "    <tr>\n",
       "      <th>1196</th>\n",
       "      <td>b'0000005242'</td>\n",
       "      <td>1.0</td>\n",
       "      <td>2.0</td>\n",
       "      <td>1.0</td>\n",
       "      <td>1.0</td>\n",
       "    </tr>\n",
       "    <tr>\n",
       "      <th>1197</th>\n",
       "      <td>b'0000018163'</td>\n",
       "      <td>2.0</td>\n",
       "      <td>2.0</td>\n",
       "      <td>0.0</td>\n",
       "      <td>0.0</td>\n",
       "    </tr>\n",
       "    <tr>\n",
       "      <th>1198</th>\n",
       "      <td>b'0000050865'</td>\n",
       "      <td>1.0</td>\n",
       "      <td>2.0</td>\n",
       "      <td>1.0</td>\n",
       "      <td>1.0</td>\n",
       "    </tr>\n",
       "    <tr>\n",
       "      <th>1199</th>\n",
       "      <td>b'0000000735'</td>\n",
       "      <td>2.0</td>\n",
       "      <td>2.0</td>\n",
       "      <td>0.0</td>\n",
       "      <td>0.0</td>\n",
       "    </tr>\n",
       "    <tr>\n",
       "      <th>1200</th>\n",
       "      <td>b'0000001308'</td>\n",
       "      <td>2.0</td>\n",
       "      <td>2.0</td>\n",
       "      <td>0.0</td>\n",
       "      <td>0.0</td>\n",
       "    </tr>\n",
       "    <tr>\n",
       "      <th>1201</th>\n",
       "      <td>b'0000002634'</td>\n",
       "      <td>1.0</td>\n",
       "      <td>1.0</td>\n",
       "      <td>0.0</td>\n",
       "      <td>1.0</td>\n",
       "    </tr>\n",
       "  </tbody>\n",
       "</table>\n",
       "<p>121 rows × 5 columns</p>\n",
       "</div>"
      ],
      "text/plain": [
       "                 ID  actual  predicted   dp   dr\n",
       "1081  b'0000002401'     2.0        1.0  1.0  0.0\n",
       "1082  b'0000003402'     1.0        1.0  0.0  1.0\n",
       "1083  b'0000008369'     2.0        1.0  1.0  0.0\n",
       "1084  b'0000006138'     1.0        2.0  1.0  1.0\n",
       "1085  b'0000047834'     2.0        2.0  0.0  0.0\n",
       "1086  b'0000014705'     2.0        2.0  0.0  0.0\n",
       "1087  b'0000000958'     2.0        2.0  0.0  0.0\n",
       "1088  b'0000006939'     2.0        2.0  0.0  0.0\n",
       "1089  b'0000015103'     1.0        1.0  0.0  1.0\n",
       "1090  b'0000012456'     1.0        1.0  0.0  1.0\n",
       "1091  b'0000011512'     2.0        2.0  0.0  0.0\n",
       "1092  b'0000065910'     2.0        2.0  0.0  0.0\n",
       "1093  b'0000001564'     1.0        1.0  0.0  1.0\n",
       "1094  b'0000014600'     2.0        2.0  0.0  0.0\n",
       "1095  b'0000017231'     1.0        1.0  0.0  1.0\n",
       "1096  b'0000003025'     1.0        1.0  0.0  1.0\n",
       "1097  b'0000012822'     2.0        2.0  0.0  0.0\n",
       "1098  b'0000000126'     2.0        2.0  0.0  0.0\n",
       "1099  b'0000002341'     2.0        2.0  0.0  0.0\n",
       "1100  b'0000058949'     2.0        2.0  0.0  0.0\n",
       "1101  b'0000016444'     1.0        1.0  0.0  1.0\n",
       "1102  b'0000013302'     1.0        1.0  0.0  1.0\n",
       "1103  b'0000017646'     1.0        1.0  0.0  1.0\n",
       "1104  b'0000050281'     1.0        1.0  0.0  1.0\n",
       "1105  b'0000001970'     1.0        1.0  0.0  1.0\n",
       "1106  b'0000011730'     1.0        1.0  0.0  1.0\n",
       "1107  b'0000013611'     2.0        2.0  0.0  0.0\n",
       "1108  b'0000048814'     1.0        1.0  0.0  1.0\n",
       "1109  b'0000046259'     2.0        2.0  0.0  0.0\n",
       "1110  b'0000045799'     1.0        1.0  0.0  1.0\n",
       "...             ...     ...        ...  ...  ...\n",
       "1172  b'0000005514'     1.0        1.0  0.0  1.0\n",
       "1173  b'0000000062'     1.0        1.0  0.0  1.0\n",
       "1174  b'0000047024'     1.0        1.0  0.0  1.0\n",
       "1175  b'0000017798'     2.0        1.0  1.0  0.0\n",
       "1176  b'0000014410'     1.0        1.0  0.0  1.0\n",
       "1177  b'0000045944'     1.0        1.0  0.0  1.0\n",
       "1178  b'0000008069'     2.0        2.0  0.0  0.0\n",
       "1179  b'0000002956'     1.0        1.0  0.0  1.0\n",
       "1180  b'0000002661'     2.0        2.0  0.0  0.0\n",
       "1181  b'0000007702'     2.0        2.0  0.0  0.0\n",
       "1182  b'0000008528'     1.0        1.0  0.0  1.0\n",
       "1183  b'0000017479'     2.0        2.0  0.0  0.0\n",
       "1184  b'0000059942'     2.0        2.0  0.0  0.0\n",
       "1185  b'0000055968'     2.0        2.0  0.0  0.0\n",
       "1186  b'0000057015'     2.0        2.0  0.0  0.0\n",
       "1187  b'0000001513'     1.0        1.0  0.0  1.0\n",
       "1188  b'0000049606'     1.0        1.0  0.0  1.0\n",
       "1189  b'0000053855'     1.0        1.0  0.0  1.0\n",
       "1190  b'0000010801'     2.0        2.0  0.0  0.0\n",
       "1191  b'0000015243'     1.0        1.0  0.0  1.0\n",
       "1192  b'0000054135'     1.0        1.0  0.0  1.0\n",
       "1193  b'0000005494'     2.0        2.0  0.0  0.0\n",
       "1194  b'0000007514'     2.0        1.0  1.0  0.0\n",
       "1195  b'0000015169'     2.0        1.0  1.0  0.0\n",
       "1196  b'0000005242'     1.0        2.0  1.0  1.0\n",
       "1197  b'0000018163'     2.0        2.0  0.0  0.0\n",
       "1198  b'0000050865'     1.0        2.0  1.0  1.0\n",
       "1199  b'0000000735'     2.0        2.0  0.0  0.0\n",
       "1200  b'0000001308'     2.0        2.0  0.0  0.0\n",
       "1201  b'0000002634'     1.0        1.0  0.0  1.0\n",
       "\n",
       "[121 rows x 5 columns]"
      ]
     },
     "execution_count": 227,
     "metadata": {},
     "output_type": "execute_result"
    }
   ],
   "source": [
    "outp.tail(121)"
   ]
  },
  {
   "cell_type": "code",
   "execution_count": null,
   "metadata": {},
   "outputs": [],
   "source": [
    "accuracy_np(m.predict(), yl)"
   ]
  },
  {
   "cell_type": "code",
   "execution_count": null,
   "metadata": {},
   "outputs": [],
   "source": [
    "importfrom sklearn.ensemble import RandomForestRegressor\n",
    "from sklearn.ensemble import RandomForestClassifier matplotlib.pyplot as plt\n",
    "((val,trn), (y_val,y_trn)) = split_by_idx(val_idx, df.values, y)\n",
    "m = RandomForestClassifier(n_estimators=40, max_features=0.99, min_samples_leaf=2,\n",
    "                          n_jobs=-1, oob_score=True)\n",
    "m.fit(trn, y_trn);\n"
   ]
  },
  {
   "cell_type": "code",
   "execution_count": null,
   "metadata": {},
   "outputs": [],
   "source": [
    "preds = m.predict(val)\n",
    "m.score(trn, y_trn), m.score(val, y_val), m.oob_score_, exp_rmspe(np.log(preds), np.log(y_val))\n"
   ]
  },
  {
   "cell_type": "code",
   "execution_count": null,
   "metadata": {},
   "outputs": [],
   "source": [
    "preds"
   ]
  },
  {
   "cell_type": "code",
   "execution_count": null,
   "metadata": {},
   "outputs": [],
   "source": [
    "y_val"
   ]
  },
  {
   "cell_type": "code",
   "execution_count": null,
   "metadata": {},
   "outputs": [],
   "source": [
    "np.sum(np.abs(preds - y_val))"
   ]
  },
  {
   "cell_type": "markdown",
   "metadata": {},
   "source": [
    "## Logistic Regression"
   ]
  },
  {
   "cell_type": "code",
   "execution_count": null,
   "metadata": {},
   "outputs": [],
   "source": [
    "from sklearn import preprocessing\n",
    "import matplotlib.pyplot as plt \n",
    "plt.rc(\"font\", size=14)\n",
    "from sklearn.linear_model import LogisticRegression\n",
    "from sklearn.cross_validation import train_test_split\n",
    "import seaborn as sns\n",
    "sns.set(style=\"white\")\n",
    "sns.set(style=\"whitegrid\", color_codes=True)"
   ]
  },
  {
   "cell_type": "code",
   "execution_count": null,
   "metadata": {},
   "outputs": [],
   "source": [
    "logreg = LogisticRegression()"
   ]
  },
  {
   "cell_type": "code",
   "execution_count": null,
   "metadata": {},
   "outputs": [],
   "source": []
  }
 ],
 "metadata": {
  "kernelspec": {
   "display_name": "Python [conda env:myenv]",
   "language": "python",
   "name": "conda-env-myenv-py"
  },
  "language_info": {
   "codemirror_mode": {
    "name": "ipython",
    "version": 3
   },
   "file_extension": ".py",
   "mimetype": "text/x-python",
   "name": "python",
   "nbconvert_exporter": "python",
   "pygments_lexer": "ipython3",
   "version": "3.6.5"
  }
 },
 "nbformat": 4,
 "nbformat_minor": 2
}
